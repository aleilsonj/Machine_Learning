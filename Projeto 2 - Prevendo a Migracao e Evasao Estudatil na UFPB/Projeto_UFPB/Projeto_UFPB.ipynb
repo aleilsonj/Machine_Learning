{
 "cells": [
  {
   "cell_type": "markdown",
   "id": "4f753d2e",
   "metadata": {},
   "source": [
    "# 1 Sistema de Seleção Unificada (SISU)\n",
    "## 2 Efeitos Sobre a Migração e Evasão Estudantil na Universidade Federal da Paraíba\n",
    "### Introdução\n",
    "Este trabalho busca entender os efeitos do Sistema de Seleção Unificada, o Sisu,\n",
    "no perfil do entrante e a sua relação com a evasão estudantil na Universidade Federal da\n",
    "Paraíba. Esse sistema de seleção pode afetar as escolhas individuais de tal modo que o\n",
    "concorrente passe a escolher um curso no qual ele tenha maior probabilidade de\n",
    "aprovação ao invés de sua escolha ótima e isto pode ter efeitos nos indicadores de evasão.\n",
    "Para tal análise, essa pesquisa tem como base um banco de dados interno obtido junto a\n",
    "Superintendência de Tecnologia da Informação (STI) da UFPB para o período de 2010 a\n",
    "2015.\n",
    "\n",
    "\n",
    "### 2.1 Projeto de Ciências de Dados - machine learning \n",
    "### 2.2 Análise Exploratória e Data Wrangling Para efeitos do Sisu na migração e Evasão estudantil na UFPB\n"
   ]
  },
  {
   "cell_type": "code",
   "execution_count": 1,
   "id": "2e4db2c4",
   "metadata": {},
   "outputs": [],
   "source": [
    "#imports\n",
    "import pandas as pd\n",
    "import numpy as np\n",
    "import polars as pl\n",
    "import matplotlib.pyplot as plt\n",
    "import seaborn as sns\n",
    "import math\n",
    "import sklearn\n",
    "from sklearn.model_selection import train_test_split\n",
    "from sklearn.model_selection import GridSearchCV\n",
    "from sklearn.model_selection import cross_val_score\n",
    "from sklearn.model_selection import RandomizedSearchCV\n",
    "from sklearn.linear_model import LogisticRegression\n",
    "from sklearn.ensemble import RandomForestClassifier\n",
    "from sklearn.neighbors import KNeighborsClassifier\n",
    "from sklearn.tree import DecisionTreeClassifier\n",
    "from sklearn.svm import SVC\n",
    "from sklearn.metrics import roc_curve, auc, roc_auc_score, confusion_matrix\n",
    "from sklearn.metrics import accuracy_score\n",
    "from sklearn.preprocessing import LabelEncoder, MinMaxScaler, StandardScaler\n",
    "import warnings\n",
    "warnings.filterwarnings(\"ignore\")"
   ]
  },
  {
   "cell_type": "code",
   "execution_count": 2,
   "id": "78501029",
   "metadata": {},
   "outputs": [],
   "source": [
    "# Parâmetros de configuração dos gráficos\n",
    "from matplotlib import rcParams\n",
    "rcParams['figure.figsize'] = 12, 4\n",
    "rcParams['lines.linewidth'] = 3\n",
    "rcParams['xtick.labelsize'] = 'x-large'\n",
    "rcParams['ytick.labelsize'] = 'x-large'"
   ]
  },
  {
   "cell_type": "markdown",
   "id": "e0972429",
   "metadata": {},
   "source": [
    "### 2.3 Carregando dados"
   ]
  },
  {
   "cell_type": "code",
   "execution_count": 3,
   "id": "8b3b8165",
   "metadata": {},
   "outputs": [],
   "source": [
    "# Carregando os dados que estão em formato .xlsx\n",
    "df = pd.read_excel('STI_UFPB.xlsx')"
   ]
  },
  {
   "cell_type": "code",
   "execution_count": 4,
   "id": "6a742069",
   "metadata": {},
   "outputs": [
    {
     "data": {
      "text/plain": [
       "pandas.core.frame.DataFrame"
      ]
     },
     "execution_count": 4,
     "metadata": {},
     "output_type": "execute_result"
    }
   ],
   "source": [
    "# Verificando o tipo de objeto criado\n",
    "type(df)"
   ]
  },
  {
   "cell_type": "code",
   "execution_count": 5,
   "id": "187ffb3b",
   "metadata": {},
   "outputs": [
    {
     "data": {
      "text/plain": [
       "(68947, 24)"
      ]
     },
     "execution_count": 5,
     "metadata": {},
     "output_type": "execute_result"
    }
   ],
   "source": [
    "# Atributo shape\n",
    "df.shape"
   ]
  },
  {
   "cell_type": "code",
   "execution_count": 6,
   "id": "0c15465a",
   "metadata": {},
   "outputs": [
    {
     "data": {
      "text/plain": [
       "1654728"
      ]
     },
     "execution_count": 6,
     "metadata": {},
     "output_type": "execute_result"
    }
   ],
   "source": [
    "# Verificando o total de registro do df\n",
    "df.size"
   ]
  },
  {
   "cell_type": "code",
   "execution_count": 7,
   "id": "d297354a",
   "metadata": {},
   "outputs": [
    {
     "data": {
      "text/html": [
       "<div>\n",
       "<style scoped>\n",
       "    .dataframe tbody tr th:only-of-type {\n",
       "        vertical-align: middle;\n",
       "    }\n",
       "\n",
       "    .dataframe tbody tr th {\n",
       "        vertical-align: top;\n",
       "    }\n",
       "\n",
       "    .dataframe thead th {\n",
       "        text-align: right;\n",
       "    }\n",
       "</style>\n",
       "<table border=\"1\" class=\"dataframe\">\n",
       "  <thead>\n",
       "    <tr style=\"text-align: right;\">\n",
       "      <th></th>\n",
       "      <th>campus</th>\n",
       "      <th>codigo_inep</th>\n",
       "      <th>curso_nome</th>\n",
       "      <th>turno</th>\n",
       "      <th>ano_ingresso</th>\n",
       "      <th>periodo_ingresso</th>\n",
       "      <th>forma_ingresso</th>\n",
       "      <th>status</th>\n",
       "      <th>id_discente</th>\n",
       "      <th>ano_referencia</th>\n",
       "      <th>...</th>\n",
       "      <th>etnia</th>\n",
       "      <th>sexo</th>\n",
       "      <th>data_nascimento</th>\n",
       "      <th>uf_naturalidade</th>\n",
       "      <th>mun_residencia</th>\n",
       "      <th>uf_residencia</th>\n",
       "      <th>dt_conclusao</th>\n",
       "      <th>dt_expedicao</th>\n",
       "      <th>estado_civil</th>\n",
       "      <th>renda_familiar</th>\n",
       "    </tr>\n",
       "  </thead>\n",
       "  <tbody>\n",
       "    <tr>\n",
       "      <th>0</th>\n",
       "      <td>João Pessoa</td>\n",
       "      <td>NaN</td>\n",
       "      <td>CIENCIAS</td>\n",
       "      <td>Matutino e Vespertino</td>\n",
       "      <td>1979</td>\n",
       "      <td>1</td>\n",
       "      <td>GRADUADO</td>\n",
       "      <td>CONCLUÍDO</td>\n",
       "      <td>47289</td>\n",
       "      <td>2016</td>\n",
       "      <td>...</td>\n",
       "      <td>Não Informado</td>\n",
       "      <td>F</td>\n",
       "      <td>1900-01-01 00:00:00</td>\n",
       "      <td>Paraíba</td>\n",
       "      <td>_Outros</td>\n",
       "      <td>#Não Informado</td>\n",
       "      <td>NaT</td>\n",
       "      <td>NaT</td>\n",
       "      <td>Divorciado(a)</td>\n",
       "      <td>NaN</td>\n",
       "    </tr>\n",
       "    <tr>\n",
       "      <th>1</th>\n",
       "      <td>João Pessoa</td>\n",
       "      <td>13398.0</td>\n",
       "      <td>DIREITO</td>\n",
       "      <td>Noturno</td>\n",
       "      <td>1980</td>\n",
       "      <td>1</td>\n",
       "      <td>TRANSFERENCIA (PSTV)</td>\n",
       "      <td>CANCELADO</td>\n",
       "      <td>92456</td>\n",
       "      <td>2010</td>\n",
       "      <td>...</td>\n",
       "      <td>Não Informado</td>\n",
       "      <td>M</td>\n",
       "      <td>1955-11-19 00:00:00</td>\n",
       "      <td>Paraíba</td>\n",
       "      <td>João Pessoa</td>\n",
       "      <td>Paraíba</td>\n",
       "      <td>NaT</td>\n",
       "      <td>NaT</td>\n",
       "      <td>Casado(a)</td>\n",
       "      <td>40000.0</td>\n",
       "    </tr>\n",
       "    <tr>\n",
       "      <th>2</th>\n",
       "      <td>João Pessoa</td>\n",
       "      <td>13423.0</td>\n",
       "      <td>EDUCAÇÃO FÍSICA - LICENCIATURA</td>\n",
       "      <td>Matutino e Vespertino</td>\n",
       "      <td>1982</td>\n",
       "      <td>2</td>\n",
       "      <td>VESTIBULAR</td>\n",
       "      <td>CANCELADO</td>\n",
       "      <td>54848</td>\n",
       "      <td>2014</td>\n",
       "      <td>...</td>\n",
       "      <td>Pardo</td>\n",
       "      <td>M</td>\n",
       "      <td>1958-08-12 00:00:00</td>\n",
       "      <td>Paraíba</td>\n",
       "      <td>João Pessoa</td>\n",
       "      <td>Paraíba</td>\n",
       "      <td>NaT</td>\n",
       "      <td>NaT</td>\n",
       "      <td>Divorciado(a)</td>\n",
       "      <td>NaN</td>\n",
       "    </tr>\n",
       "    <tr>\n",
       "      <th>3</th>\n",
       "      <td>João Pessoa</td>\n",
       "      <td>13400.0</td>\n",
       "      <td>FÍSICA</td>\n",
       "      <td>Matutino e Vespertino</td>\n",
       "      <td>1982</td>\n",
       "      <td>1</td>\n",
       "      <td>VESTIBULAR</td>\n",
       "      <td>CONCLUÍDO</td>\n",
       "      <td>54058</td>\n",
       "      <td>2016</td>\n",
       "      <td>...</td>\n",
       "      <td>Não Informado</td>\n",
       "      <td>M</td>\n",
       "      <td>1952-11-12 00:00:00</td>\n",
       "      <td>Paraíba</td>\n",
       "      <td>João Pessoa</td>\n",
       "      <td>Paraíba</td>\n",
       "      <td>2016-07-04</td>\n",
       "      <td>2017-07-04</td>\n",
       "      <td>Casado(a)</td>\n",
       "      <td>NaN</td>\n",
       "    </tr>\n",
       "    <tr>\n",
       "      <th>4</th>\n",
       "      <td>João Pessoa</td>\n",
       "      <td>13400.0</td>\n",
       "      <td>FÍSICA</td>\n",
       "      <td>Matutino e Vespertino</td>\n",
       "      <td>1982</td>\n",
       "      <td>1</td>\n",
       "      <td>VESTIBULAR</td>\n",
       "      <td>CONCLUÍDO</td>\n",
       "      <td>54058</td>\n",
       "      <td>2016</td>\n",
       "      <td>...</td>\n",
       "      <td>Não Informado</td>\n",
       "      <td>M</td>\n",
       "      <td>1952-11-12 00:00:00</td>\n",
       "      <td>Paraíba</td>\n",
       "      <td>João Pessoa</td>\n",
       "      <td>Paraíba</td>\n",
       "      <td>2016-07-04</td>\n",
       "      <td>2017-07-04</td>\n",
       "      <td>Casado(a)</td>\n",
       "      <td>NaN</td>\n",
       "    </tr>\n",
       "  </tbody>\n",
       "</table>\n",
       "<p>5 rows × 24 columns</p>\n",
       "</div>"
      ],
      "text/plain": [
       "        campus  codigo_inep                      curso_nome  \\\n",
       "0  João Pessoa          NaN                        CIENCIAS   \n",
       "1  João Pessoa      13398.0                         DIREITO   \n",
       "2  João Pessoa      13423.0  EDUCAÇÃO FÍSICA - LICENCIATURA   \n",
       "3  João Pessoa      13400.0                          FÍSICA   \n",
       "4  João Pessoa      13400.0                          FÍSICA   \n",
       "\n",
       "                   turno  ano_ingresso  periodo_ingresso  \\\n",
       "0  Matutino e Vespertino          1979                 1   \n",
       "1                Noturno          1980                 1   \n",
       "2  Matutino e Vespertino          1982                 2   \n",
       "3  Matutino e Vespertino          1982                 1   \n",
       "4  Matutino e Vespertino          1982                 1   \n",
       "\n",
       "         forma_ingresso     status  id_discente  ano_referencia  ...  \\\n",
       "0              GRADUADO  CONCLUÍDO        47289            2016  ...   \n",
       "1  TRANSFERENCIA (PSTV)  CANCELADO        92456            2010  ...   \n",
       "2            VESTIBULAR  CANCELADO        54848            2014  ...   \n",
       "3            VESTIBULAR  CONCLUÍDO        54058            2016  ...   \n",
       "4            VESTIBULAR  CONCLUÍDO        54058            2016  ...   \n",
       "\n",
       "           etnia sexo      data_nascimento uf_naturalidade mun_residencia  \\\n",
       "0  Não Informado    F  1900-01-01 00:00:00         Paraíba        _Outros   \n",
       "1  Não Informado    M  1955-11-19 00:00:00         Paraíba    João Pessoa   \n",
       "2          Pardo    M  1958-08-12 00:00:00         Paraíba    João Pessoa   \n",
       "3  Não Informado    M  1952-11-12 00:00:00         Paraíba    João Pessoa   \n",
       "4  Não Informado    M  1952-11-12 00:00:00         Paraíba    João Pessoa   \n",
       "\n",
       "    uf_residencia dt_conclusao dt_expedicao   estado_civil renda_familiar  \n",
       "0  #Não Informado          NaT          NaT  Divorciado(a)            NaN  \n",
       "1         Paraíba          NaT          NaT      Casado(a)        40000.0  \n",
       "2         Paraíba          NaT          NaT  Divorciado(a)            NaN  \n",
       "3         Paraíba   2016-07-04   2017-07-04      Casado(a)            NaN  \n",
       "4         Paraíba   2016-07-04   2017-07-04      Casado(a)            NaN  \n",
       "\n",
       "[5 rows x 24 columns]"
      ]
     },
     "execution_count": 7,
     "metadata": {},
     "output_type": "execute_result"
    }
   ],
   "source": [
    "# Método head?()\n",
    "df.head(5)"
   ]
  },
  {
   "cell_type": "markdown",
   "id": "fff426d9",
   "metadata": {},
   "source": [
    "#### Removendo variáveis com valores NaN"
   ]
  },
  {
   "cell_type": "code",
   "execution_count": 8,
   "id": "94846127",
   "metadata": {},
   "outputs": [],
   "source": [
    "df = df.drop(['dt_conclusao', 'dt_expedicao', 'renda_familiar'], axis=1)"
   ]
  },
  {
   "cell_type": "code",
   "execution_count": 9,
   "id": "20e784eb",
   "metadata": {},
   "outputs": [
    {
     "data": {
      "text/plain": [
       "(68947, 21)"
      ]
     },
     "execution_count": 9,
     "metadata": {},
     "output_type": "execute_result"
    }
   ],
   "source": [
    "df.shape"
   ]
  },
  {
   "cell_type": "code",
   "execution_count": 10,
   "id": "5f64f9e4",
   "metadata": {},
   "outputs": [],
   "source": [
    "df = df.dropna()"
   ]
  },
  {
   "cell_type": "code",
   "execution_count": 11,
   "id": "5c123cd7",
   "metadata": {},
   "outputs": [
    {
     "data": {
      "text/plain": [
       "(68940, 21)"
      ]
     },
     "execution_count": 11,
     "metadata": {},
     "output_type": "execute_result"
    }
   ],
   "source": [
    "df.shape"
   ]
  },
  {
   "cell_type": "markdown",
   "id": "3b87af31",
   "metadata": {},
   "source": [
    "### 2.4 EDA - Parte 1\n",
    "### 2.4.1 Separação das Variáveis Categóricas e Numéricas"
   ]
  },
  {
   "cell_type": "markdown",
   "id": "f173a7ee",
   "metadata": {},
   "source": [
    "Antes de dar inicio a separação dos dados por variáveis categóricas e númericas, irei fazer um subset dos dados para os alunos que ingressaram na UFPB de 2010 até 2015."
   ]
  },
  {
   "cell_type": "code",
   "execution_count": 12,
   "id": "b342a031",
   "metadata": {},
   "outputs": [],
   "source": [
    "df1 = df.loc[(df.ano_ingresso > 2009) & (df.ano_ingresso < 2016)]"
   ]
  },
  {
   "cell_type": "code",
   "execution_count": 13,
   "id": "efad857b",
   "metadata": {},
   "outputs": [
    {
     "data": {
      "text/html": [
       "<div>\n",
       "<style scoped>\n",
       "    .dataframe tbody tr th:only-of-type {\n",
       "        vertical-align: middle;\n",
       "    }\n",
       "\n",
       "    .dataframe tbody tr th {\n",
       "        vertical-align: top;\n",
       "    }\n",
       "\n",
       "    .dataframe thead th {\n",
       "        text-align: right;\n",
       "    }\n",
       "</style>\n",
       "<table border=\"1\" class=\"dataframe\">\n",
       "  <thead>\n",
       "    <tr style=\"text-align: right;\">\n",
       "      <th></th>\n",
       "      <th>campus</th>\n",
       "      <th>codigo_inep</th>\n",
       "      <th>curso_nome</th>\n",
       "      <th>turno</th>\n",
       "      <th>ano_ingresso</th>\n",
       "      <th>periodo_ingresso</th>\n",
       "      <th>forma_ingresso</th>\n",
       "      <th>status</th>\n",
       "      <th>id_discente</th>\n",
       "      <th>ano_referencia</th>\n",
       "      <th>...</th>\n",
       "      <th>forma_evasão</th>\n",
       "      <th>cra</th>\n",
       "      <th>cota</th>\n",
       "      <th>etnia</th>\n",
       "      <th>sexo</th>\n",
       "      <th>data_nascimento</th>\n",
       "      <th>uf_naturalidade</th>\n",
       "      <th>mun_residencia</th>\n",
       "      <th>uf_residencia</th>\n",
       "      <th>estado_civil</th>\n",
       "    </tr>\n",
       "  </thead>\n",
       "  <tbody>\n",
       "    <tr>\n",
       "      <th>19029</th>\n",
       "      <td>João Pessoa</td>\n",
       "      <td>13413.0</td>\n",
       "      <td>PSICOLOGIA</td>\n",
       "      <td>Matutino e Vespertino</td>\n",
       "      <td>2010</td>\n",
       "      <td>2</td>\n",
       "      <td>VESTIBULAR</td>\n",
       "      <td>CONCLUÍDO</td>\n",
       "      <td>131557</td>\n",
       "      <td>2013</td>\n",
       "      <td>...</td>\n",
       "      <td>CONCLUÍDO</td>\n",
       "      <td>0.0</td>\n",
       "      <td>Ampla Concorrência</td>\n",
       "      <td>Branco</td>\n",
       "      <td>M</td>\n",
       "      <td>1993-01-31 00:00:00</td>\n",
       "      <td>Paraíba</td>\n",
       "      <td>Patos</td>\n",
       "      <td>Paraíba</td>\n",
       "      <td>Solteiro(a)</td>\n",
       "    </tr>\n",
       "    <tr>\n",
       "      <th>19030</th>\n",
       "      <td>Litoral Norte (Mamanguape e Rio Tinto)</td>\n",
       "      <td>98976.0</td>\n",
       "      <td>CIÊNCIAS CONTÁBEIS</td>\n",
       "      <td>Noturno</td>\n",
       "      <td>2010</td>\n",
       "      <td>1</td>\n",
       "      <td>TRANSFERENCIA (PSTV)</td>\n",
       "      <td>CANCELADO</td>\n",
       "      <td>134499</td>\n",
       "      <td>2012</td>\n",
       "      <td>...</td>\n",
       "      <td>CANCELAMENTO DE MATRÍCULA E VÍNCULO PELO ALUNO</td>\n",
       "      <td>82800.0</td>\n",
       "      <td>Ampla Concorrência</td>\n",
       "      <td>Branco</td>\n",
       "      <td>M</td>\n",
       "      <td>1991-06-17 00:00:00</td>\n",
       "      <td>Pernambuco</td>\n",
       "      <td>Itambé</td>\n",
       "      <td>Pernambuco</td>\n",
       "      <td>Solteiro(a)</td>\n",
       "    </tr>\n",
       "    <tr>\n",
       "      <th>19031</th>\n",
       "      <td>João Pessoa</td>\n",
       "      <td>13404.0</td>\n",
       "      <td>QUÍMICA</td>\n",
       "      <td>Noturno</td>\n",
       "      <td>2010</td>\n",
       "      <td>1</td>\n",
       "      <td>VESTIBULAR</td>\n",
       "      <td>CANCELADO</td>\n",
       "      <td>132561</td>\n",
       "      <td>2011</td>\n",
       "      <td>...</td>\n",
       "      <td>CANCELAMENTO DE MATRÍCULA E VÍNCULO PELO ALUNO</td>\n",
       "      <td>47500.0</td>\n",
       "      <td>Ampla Concorrência</td>\n",
       "      <td>Pardo</td>\n",
       "      <td>M</td>\n",
       "      <td>1984-09-04 00:00:00</td>\n",
       "      <td>Paraíba</td>\n",
       "      <td>João Pessoa</td>\n",
       "      <td>Paraíba</td>\n",
       "      <td>Solteiro(a)</td>\n",
       "    </tr>\n",
       "    <tr>\n",
       "      <th>19032</th>\n",
       "      <td>João Pessoa</td>\n",
       "      <td>13427.0</td>\n",
       "      <td>ARQUITETURA E URBANISMO</td>\n",
       "      <td>Matutino e Vespertino</td>\n",
       "      <td>2010</td>\n",
       "      <td>2</td>\n",
       "      <td>VESTIBULAR</td>\n",
       "      <td>CANCELADO</td>\n",
       "      <td>148073</td>\n",
       "      <td>2016</td>\n",
       "      <td>...</td>\n",
       "      <td>ABANDONO</td>\n",
       "      <td>75800.0</td>\n",
       "      <td>Ampla Concorrência</td>\n",
       "      <td>Branco</td>\n",
       "      <td>F</td>\n",
       "      <td>1991-05-13 00:00:00</td>\n",
       "      <td>Paraíba</td>\n",
       "      <td>João Pessoa</td>\n",
       "      <td>Paraíba</td>\n",
       "      <td>Solteiro(a)</td>\n",
       "    </tr>\n",
       "    <tr>\n",
       "      <th>19033</th>\n",
       "      <td>João Pessoa</td>\n",
       "      <td>13397.0</td>\n",
       "      <td>CIÊNCIAS CONTÁBEIS</td>\n",
       "      <td>Matutino e Vespertino</td>\n",
       "      <td>2010</td>\n",
       "      <td>2</td>\n",
       "      <td>TRANSFERENCIA (PSTV)</td>\n",
       "      <td>CONCLUÍDO</td>\n",
       "      <td>138208</td>\n",
       "      <td>2016</td>\n",
       "      <td>...</td>\n",
       "      <td>CONCLUÍDO</td>\n",
       "      <td>69200.0</td>\n",
       "      <td>Ampla Concorrência</td>\n",
       "      <td>Branco</td>\n",
       "      <td>F</td>\n",
       "      <td>1991-06-10 00:00:00</td>\n",
       "      <td>Pernambuco</td>\n",
       "      <td>João Pessoa</td>\n",
       "      <td>Paraíba</td>\n",
       "      <td>Solteiro(a)</td>\n",
       "    </tr>\n",
       "  </tbody>\n",
       "</table>\n",
       "<p>5 rows × 21 columns</p>\n",
       "</div>"
      ],
      "text/plain": [
       "                                       campus  codigo_inep  \\\n",
       "19029                             João Pessoa      13413.0   \n",
       "19030  Litoral Norte (Mamanguape e Rio Tinto)      98976.0   \n",
       "19031                             João Pessoa      13404.0   \n",
       "19032                             João Pessoa      13427.0   \n",
       "19033                             João Pessoa      13397.0   \n",
       "\n",
       "                    curso_nome                  turno  ano_ingresso  \\\n",
       "19029               PSICOLOGIA  Matutino e Vespertino          2010   \n",
       "19030       CIÊNCIAS CONTÁBEIS                Noturno          2010   \n",
       "19031                  QUÍMICA                Noturno          2010   \n",
       "19032  ARQUITETURA E URBANISMO  Matutino e Vespertino          2010   \n",
       "19033       CIÊNCIAS CONTÁBEIS  Matutino e Vespertino          2010   \n",
       "\n",
       "       periodo_ingresso        forma_ingresso     status  id_discente  \\\n",
       "19029                 2            VESTIBULAR  CONCLUÍDO       131557   \n",
       "19030                 1  TRANSFERENCIA (PSTV)  CANCELADO       134499   \n",
       "19031                 1            VESTIBULAR  CANCELADO       132561   \n",
       "19032                 2            VESTIBULAR  CANCELADO       148073   \n",
       "19033                 2  TRANSFERENCIA (PSTV)  CONCLUÍDO       138208   \n",
       "\n",
       "       ano_referencia  ...                                    forma_evasão  \\\n",
       "19029            2013  ...                                       CONCLUÍDO   \n",
       "19030            2012  ...  CANCELAMENTO DE MATRÍCULA E VÍNCULO PELO ALUNO   \n",
       "19031            2011  ...  CANCELAMENTO DE MATRÍCULA E VÍNCULO PELO ALUNO   \n",
       "19032            2016  ...                                        ABANDONO   \n",
       "19033            2016  ...                                       CONCLUÍDO   \n",
       "\n",
       "           cra                cota   etnia sexo      data_nascimento  \\\n",
       "19029      0.0  Ampla Concorrência  Branco    M  1993-01-31 00:00:00   \n",
       "19030  82800.0  Ampla Concorrência  Branco    M  1991-06-17 00:00:00   \n",
       "19031  47500.0  Ampla Concorrência   Pardo    M  1984-09-04 00:00:00   \n",
       "19032  75800.0  Ampla Concorrência  Branco    F  1991-05-13 00:00:00   \n",
       "19033  69200.0  Ampla Concorrência  Branco    F  1991-06-10 00:00:00   \n",
       "\n",
       "      uf_naturalidade mun_residencia uf_residencia estado_civil  \n",
       "19029         Paraíba          Patos       Paraíba  Solteiro(a)  \n",
       "19030      Pernambuco         Itambé    Pernambuco  Solteiro(a)  \n",
       "19031         Paraíba    João Pessoa       Paraíba  Solteiro(a)  \n",
       "19032         Paraíba    João Pessoa       Paraíba  Solteiro(a)  \n",
       "19033      Pernambuco    João Pessoa       Paraíba  Solteiro(a)  \n",
       "\n",
       "[5 rows x 21 columns]"
      ]
     },
     "execution_count": 13,
     "metadata": {},
     "output_type": "execute_result"
    }
   ],
   "source": [
    "df1.head(5)"
   ]
  },
  {
   "cell_type": "markdown",
   "id": "863a0f30",
   "metadata": {},
   "source": [
    "Aqui irei criar dois vetores que serão importantes para seguir com o objetivo desse projeto"
   ]
  },
  {
   "cell_type": "markdown",
   "id": "85ab421b",
   "metadata": {},
   "source": [
    "Removendo erros da variável **sexo**"
   ]
  },
  {
   "cell_type": "code",
   "execution_count": 14,
   "id": "6c3546b5",
   "metadata": {},
   "outputs": [],
   "source": [
    "df1 = df1[df1['sexo'] != 'N']"
   ]
  },
  {
   "cell_type": "code",
   "execution_count": 15,
   "id": "cbe55639",
   "metadata": {},
   "outputs": [
    {
     "data": {
      "text/plain": [
       "F    23581\n",
       "M    22580\n",
       "Name: sexo, dtype: int64"
      ]
     },
     "execution_count": 15,
     "metadata": {},
     "output_type": "execute_result"
    }
   ],
   "source": [
    "df1['sexo'].value_counts()"
   ]
  },
  {
   "cell_type": "markdown",
   "id": "d865c240",
   "metadata": {},
   "source": [
    "Removendo erros do vetor **ano_referencia**"
   ]
  },
  {
   "cell_type": "code",
   "execution_count": 16,
   "id": "c52288a3",
   "metadata": {},
   "outputs": [],
   "source": [
    "df1 = df1[(df1['ano_referencia'] != 2071) & (df1['ano_referencia'] != 2091)]"
   ]
  },
  {
   "cell_type": "code",
   "execution_count": 17,
   "id": "39ec75a2",
   "metadata": {},
   "outputs": [
    {
     "data": {
      "text/plain": [
       "2016    8211\n",
       "2015    7456\n",
       "2017    6518\n",
       "2014    6311\n",
       "2013    4869\n",
       "2018    4752\n",
       "2019    3687\n",
       "2012    2521\n",
       "2011    1523\n",
       "2020     167\n",
       "2010     144\n",
       "2022       1\n",
       "Name: ano_referencia, dtype: int64"
      ]
     },
     "execution_count": 17,
     "metadata": {},
     "output_type": "execute_result"
    }
   ],
   "source": [
    "df1['ano_referencia'].value_counts()"
   ]
  },
  {
   "cell_type": "markdown",
   "id": "c301aee2",
   "metadata": {},
   "source": [
    "Ao fazer a contagem dos anos presentes em **ano_referencia** foi verificado uma única contagem para o ano de 2022."
   ]
  },
  {
   "cell_type": "markdown",
   "id": "70005f1c",
   "metadata": {},
   "source": [
    "A seguir irei usar a biblioteca *Numpy* para criação de dois novos vetores com as informações das variáveis **forma_ingresso** e **uf_residencia**.\n",
    "\n",
    "   1. Irei criar uma variável *dummy* chamada **ingresso_sisu** essa variável recebera o valor *0* para os alunos que ingressaram na UFPB por meios distintos ao Sisu e valor *1* para os estudantes que ingressaram na instituição por meio do Sisu.\n",
    "   \n",
    "   \n",
    "   2. A partir da variável **uf_residencia** criarei uma variável *dummy* chamada **aluno_migrante** onde os estudantes que possuem residência no estado paraibano receberam o valor *0* e os estudantes que tem sua residência em outros estados receberam o valor *1*."
   ]
  },
  {
   "cell_type": "code",
   "execution_count": 18,
   "id": "efde2fc8",
   "metadata": {},
   "outputs": [],
   "source": [
    "df1['ingresso_sisu'] = np.where(df1['forma_ingresso'].isin(['ENEM/SiSU']), 1, 0).astype('object')\n",
    "df1['aluno_migrante'] = np.where(df1['uf_residencia'].isin(['Paraíba']),0, 1).astype('object')"
   ]
  },
  {
   "cell_type": "code",
   "execution_count": 19,
   "id": "7970a8b8",
   "metadata": {
    "scrolled": true
   },
   "outputs": [
    {
     "name": "stdout",
     "output_type": "stream",
     "text": [
      "<class 'pandas.core.frame.DataFrame'>\n",
      "Int64Index: 46160 entries, 19029 to 65200\n",
      "Data columns (total 23 columns):\n",
      " #   Column              Non-Null Count  Dtype  \n",
      "---  ------              --------------  -----  \n",
      " 0   campus              46160 non-null  object \n",
      " 1   codigo_inep         46160 non-null  float64\n",
      " 2   curso_nome          46160 non-null  object \n",
      " 3   turno               46160 non-null  object \n",
      " 4   ano_ingresso        46160 non-null  int64  \n",
      " 5   periodo_ingresso    46160 non-null  int64  \n",
      " 6   forma_ingresso      46160 non-null  object \n",
      " 7   status              46160 non-null  object \n",
      " 8   id_discente         46160 non-null  int64  \n",
      " 9   ano_referencia      46160 non-null  int64  \n",
      " 10  periodo_referencia  46160 non-null  float64\n",
      " 11  forma_evasão        46160 non-null  object \n",
      " 12  cra                 46160 non-null  float64\n",
      " 13  cota                46160 non-null  object \n",
      " 14  etnia               46160 non-null  object \n",
      " 15  sexo                46160 non-null  object \n",
      " 16  data_nascimento     46160 non-null  object \n",
      " 17  uf_naturalidade     46160 non-null  object \n",
      " 18  mun_residencia      46160 non-null  object \n",
      " 19  uf_residencia       46160 non-null  object \n",
      " 20  estado_civil        46160 non-null  object \n",
      " 21  ingresso_sisu       46160 non-null  object \n",
      " 22  aluno_migrante      46160 non-null  object \n",
      "dtypes: float64(3), int64(4), object(16)\n",
      "memory usage: 8.5+ MB\n"
     ]
    }
   ],
   "source": [
    "# Método info()\n",
    "df1.info()"
   ]
  },
  {
   "cell_type": "code",
   "execution_count": 20,
   "id": "559da7ea",
   "metadata": {},
   "outputs": [
    {
     "data": {
      "text/html": [
       "<div>\n",
       "<style scoped>\n",
       "    .dataframe tbody tr th:only-of-type {\n",
       "        vertical-align: middle;\n",
       "    }\n",
       "\n",
       "    .dataframe tbody tr th {\n",
       "        vertical-align: top;\n",
       "    }\n",
       "\n",
       "    .dataframe thead th {\n",
       "        text-align: right;\n",
       "    }\n",
       "</style>\n",
       "<table border=\"1\" class=\"dataframe\">\n",
       "  <thead>\n",
       "    <tr style=\"text-align: right;\">\n",
       "      <th></th>\n",
       "      <th>campus</th>\n",
       "      <th>codigo_inep</th>\n",
       "      <th>curso_nome</th>\n",
       "      <th>turno</th>\n",
       "      <th>ano_ingresso</th>\n",
       "      <th>periodo_ingresso</th>\n",
       "      <th>forma_ingresso</th>\n",
       "      <th>status</th>\n",
       "      <th>id_discente</th>\n",
       "      <th>ano_referencia</th>\n",
       "      <th>...</th>\n",
       "      <th>cota</th>\n",
       "      <th>etnia</th>\n",
       "      <th>sexo</th>\n",
       "      <th>data_nascimento</th>\n",
       "      <th>uf_naturalidade</th>\n",
       "      <th>mun_residencia</th>\n",
       "      <th>uf_residencia</th>\n",
       "      <th>estado_civil</th>\n",
       "      <th>ingresso_sisu</th>\n",
       "      <th>aluno_migrante</th>\n",
       "    </tr>\n",
       "  </thead>\n",
       "  <tbody>\n",
       "    <tr>\n",
       "      <th>19029</th>\n",
       "      <td>João Pessoa</td>\n",
       "      <td>13413.0</td>\n",
       "      <td>PSICOLOGIA</td>\n",
       "      <td>Matutino e Vespertino</td>\n",
       "      <td>2010</td>\n",
       "      <td>2</td>\n",
       "      <td>VESTIBULAR</td>\n",
       "      <td>CONCLUÍDO</td>\n",
       "      <td>131557</td>\n",
       "      <td>2013</td>\n",
       "      <td>...</td>\n",
       "      <td>Ampla Concorrência</td>\n",
       "      <td>Branco</td>\n",
       "      <td>M</td>\n",
       "      <td>1993-01-31 00:00:00</td>\n",
       "      <td>Paraíba</td>\n",
       "      <td>Patos</td>\n",
       "      <td>Paraíba</td>\n",
       "      <td>Solteiro(a)</td>\n",
       "      <td>0</td>\n",
       "      <td>0</td>\n",
       "    </tr>\n",
       "    <tr>\n",
       "      <th>19030</th>\n",
       "      <td>Litoral Norte (Mamanguape e Rio Tinto)</td>\n",
       "      <td>98976.0</td>\n",
       "      <td>CIÊNCIAS CONTÁBEIS</td>\n",
       "      <td>Noturno</td>\n",
       "      <td>2010</td>\n",
       "      <td>1</td>\n",
       "      <td>TRANSFERENCIA (PSTV)</td>\n",
       "      <td>CANCELADO</td>\n",
       "      <td>134499</td>\n",
       "      <td>2012</td>\n",
       "      <td>...</td>\n",
       "      <td>Ampla Concorrência</td>\n",
       "      <td>Branco</td>\n",
       "      <td>M</td>\n",
       "      <td>1991-06-17 00:00:00</td>\n",
       "      <td>Pernambuco</td>\n",
       "      <td>Itambé</td>\n",
       "      <td>Pernambuco</td>\n",
       "      <td>Solteiro(a)</td>\n",
       "      <td>0</td>\n",
       "      <td>1</td>\n",
       "    </tr>\n",
       "    <tr>\n",
       "      <th>19031</th>\n",
       "      <td>João Pessoa</td>\n",
       "      <td>13404.0</td>\n",
       "      <td>QUÍMICA</td>\n",
       "      <td>Noturno</td>\n",
       "      <td>2010</td>\n",
       "      <td>1</td>\n",
       "      <td>VESTIBULAR</td>\n",
       "      <td>CANCELADO</td>\n",
       "      <td>132561</td>\n",
       "      <td>2011</td>\n",
       "      <td>...</td>\n",
       "      <td>Ampla Concorrência</td>\n",
       "      <td>Pardo</td>\n",
       "      <td>M</td>\n",
       "      <td>1984-09-04 00:00:00</td>\n",
       "      <td>Paraíba</td>\n",
       "      <td>João Pessoa</td>\n",
       "      <td>Paraíba</td>\n",
       "      <td>Solteiro(a)</td>\n",
       "      <td>0</td>\n",
       "      <td>0</td>\n",
       "    </tr>\n",
       "    <tr>\n",
       "      <th>19032</th>\n",
       "      <td>João Pessoa</td>\n",
       "      <td>13427.0</td>\n",
       "      <td>ARQUITETURA E URBANISMO</td>\n",
       "      <td>Matutino e Vespertino</td>\n",
       "      <td>2010</td>\n",
       "      <td>2</td>\n",
       "      <td>VESTIBULAR</td>\n",
       "      <td>CANCELADO</td>\n",
       "      <td>148073</td>\n",
       "      <td>2016</td>\n",
       "      <td>...</td>\n",
       "      <td>Ampla Concorrência</td>\n",
       "      <td>Branco</td>\n",
       "      <td>F</td>\n",
       "      <td>1991-05-13 00:00:00</td>\n",
       "      <td>Paraíba</td>\n",
       "      <td>João Pessoa</td>\n",
       "      <td>Paraíba</td>\n",
       "      <td>Solteiro(a)</td>\n",
       "      <td>0</td>\n",
       "      <td>0</td>\n",
       "    </tr>\n",
       "    <tr>\n",
       "      <th>19033</th>\n",
       "      <td>João Pessoa</td>\n",
       "      <td>13397.0</td>\n",
       "      <td>CIÊNCIAS CONTÁBEIS</td>\n",
       "      <td>Matutino e Vespertino</td>\n",
       "      <td>2010</td>\n",
       "      <td>2</td>\n",
       "      <td>TRANSFERENCIA (PSTV)</td>\n",
       "      <td>CONCLUÍDO</td>\n",
       "      <td>138208</td>\n",
       "      <td>2016</td>\n",
       "      <td>...</td>\n",
       "      <td>Ampla Concorrência</td>\n",
       "      <td>Branco</td>\n",
       "      <td>F</td>\n",
       "      <td>1991-06-10 00:00:00</td>\n",
       "      <td>Pernambuco</td>\n",
       "      <td>João Pessoa</td>\n",
       "      <td>Paraíba</td>\n",
       "      <td>Solteiro(a)</td>\n",
       "      <td>0</td>\n",
       "      <td>0</td>\n",
       "    </tr>\n",
       "  </tbody>\n",
       "</table>\n",
       "<p>5 rows × 23 columns</p>\n",
       "</div>"
      ],
      "text/plain": [
       "                                       campus  codigo_inep  \\\n",
       "19029                             João Pessoa      13413.0   \n",
       "19030  Litoral Norte (Mamanguape e Rio Tinto)      98976.0   \n",
       "19031                             João Pessoa      13404.0   \n",
       "19032                             João Pessoa      13427.0   \n",
       "19033                             João Pessoa      13397.0   \n",
       "\n",
       "                    curso_nome                  turno  ano_ingresso  \\\n",
       "19029               PSICOLOGIA  Matutino e Vespertino          2010   \n",
       "19030       CIÊNCIAS CONTÁBEIS                Noturno          2010   \n",
       "19031                  QUÍMICA                Noturno          2010   \n",
       "19032  ARQUITETURA E URBANISMO  Matutino e Vespertino          2010   \n",
       "19033       CIÊNCIAS CONTÁBEIS  Matutino e Vespertino          2010   \n",
       "\n",
       "       periodo_ingresso        forma_ingresso     status  id_discente  \\\n",
       "19029                 2            VESTIBULAR  CONCLUÍDO       131557   \n",
       "19030                 1  TRANSFERENCIA (PSTV)  CANCELADO       134499   \n",
       "19031                 1            VESTIBULAR  CANCELADO       132561   \n",
       "19032                 2            VESTIBULAR  CANCELADO       148073   \n",
       "19033                 2  TRANSFERENCIA (PSTV)  CONCLUÍDO       138208   \n",
       "\n",
       "       ano_referencia  ...                cota   etnia  sexo  \\\n",
       "19029            2013  ...  Ampla Concorrência  Branco     M   \n",
       "19030            2012  ...  Ampla Concorrência  Branco     M   \n",
       "19031            2011  ...  Ampla Concorrência   Pardo     M   \n",
       "19032            2016  ...  Ampla Concorrência  Branco     F   \n",
       "19033            2016  ...  Ampla Concorrência  Branco     F   \n",
       "\n",
       "           data_nascimento uf_naturalidade mun_residencia uf_residencia  \\\n",
       "19029  1993-01-31 00:00:00         Paraíba          Patos       Paraíba   \n",
       "19030  1991-06-17 00:00:00      Pernambuco         Itambé    Pernambuco   \n",
       "19031  1984-09-04 00:00:00         Paraíba    João Pessoa       Paraíba   \n",
       "19032  1991-05-13 00:00:00         Paraíba    João Pessoa       Paraíba   \n",
       "19033  1991-06-10 00:00:00      Pernambuco    João Pessoa       Paraíba   \n",
       "\n",
       "      estado_civil ingresso_sisu aluno_migrante  \n",
       "19029  Solteiro(a)             0              0  \n",
       "19030  Solteiro(a)             0              1  \n",
       "19031  Solteiro(a)             0              0  \n",
       "19032  Solteiro(a)             0              0  \n",
       "19033  Solteiro(a)             0              0  \n",
       "\n",
       "[5 rows x 23 columns]"
      ]
     },
     "execution_count": 20,
     "metadata": {},
     "output_type": "execute_result"
    }
   ],
   "source": [
    "df1.head(5)"
   ]
  },
  {
   "cell_type": "markdown",
   "id": "8a8ebb47",
   "metadata": {},
   "source": [
    "Foram detectados nas variáveis **dt_conlcusão**, **dt_expedição** e **renda_familiar** valores ausentes. Sendo a última dessas com maior número de informação faltantes."
   ]
  },
  {
   "cell_type": "markdown",
   "id": "3ae0b76a",
   "metadata": {},
   "source": [
    "Foi observado acima que alguns **Dtype** estão incorretos são eles: **periodo_ingresso**, **id_discente**, **Periodo_referencia**"
   ]
  },
  {
   "cell_type": "code",
   "execution_count": 21,
   "id": "0e3e0d0f",
   "metadata": {},
   "outputs": [],
   "source": [
    "#Loop Para corrigir Dtype\n",
    "colunas= ['periodo_ingresso', 'id_discente', 'periodo_referencia', 'codigo_inep']\n",
    "\n",
    "for coluna in colunas:\n",
    "    df1[coluna] = df1[coluna].astype('object')"
   ]
  },
  {
   "cell_type": "code",
   "execution_count": 22,
   "id": "590c363a",
   "metadata": {},
   "outputs": [
    {
     "name": "stdout",
     "output_type": "stream",
     "text": [
      "['ano_ingresso', 'ano_referencia', 'cra']\n"
     ]
    }
   ],
   "source": [
    "#lista de variáveis numéricas\n",
    "nums = df1.select_dtypes(include=['int', 'float'])\n",
    "nums = nums.columns.tolist()\n",
    "print(nums)"
   ]
  },
  {
   "cell_type": "code",
   "execution_count": 23,
   "id": "40851512",
   "metadata": {},
   "outputs": [
    {
     "data": {
      "text/plain": [
       "list"
      ]
     },
     "execution_count": 23,
     "metadata": {},
     "output_type": "execute_result"
    }
   ],
   "source": [
    "type(nums)"
   ]
  },
  {
   "cell_type": "code",
   "execution_count": 24,
   "id": "494889aa",
   "metadata": {},
   "outputs": [
    {
     "name": "stdout",
     "output_type": "stream",
     "text": [
      "['campus', 'codigo_inep', 'curso_nome', 'turno', 'periodo_ingresso', 'forma_ingresso', 'status', 'id_discente', 'periodo_referencia', 'forma_evasão', 'cota', 'etnia', 'sexo', 'data_nascimento', 'uf_naturalidade', 'mun_residencia', 'uf_residencia', 'estado_civil', 'ingresso_sisu', 'aluno_migrante']\n"
     ]
    }
   ],
   "source": [
    "# Selecionando todas a variáveis categóricas\n",
    "cats = df1.select_dtypes(include=['object'])\n",
    "cats = cats.columns.tolist()\n",
    "print(cats)"
   ]
  },
  {
   "cell_type": "code",
   "execution_count": 25,
   "id": "2ea9fc63",
   "metadata": {},
   "outputs": [],
   "source": [
    "df1['cra'] = df1['cra']/1000"
   ]
  },
  {
   "cell_type": "markdown",
   "id": "60d9a21a",
   "metadata": {},
   "source": [
    "### 2.4.2 Explorando as Variáveis Numéricas"
   ]
  },
  {
   "cell_type": "code",
   "execution_count": 26,
   "id": "f75262de",
   "metadata": {},
   "outputs": [
    {
     "data": {
      "text/html": [
       "<div>\n",
       "<style scoped>\n",
       "    .dataframe tbody tr th:only-of-type {\n",
       "        vertical-align: middle;\n",
       "    }\n",
       "\n",
       "    .dataframe tbody tr th {\n",
       "        vertical-align: top;\n",
       "    }\n",
       "\n",
       "    .dataframe thead th {\n",
       "        text-align: right;\n",
       "    }\n",
       "</style>\n",
       "<table border=\"1\" class=\"dataframe\">\n",
       "  <thead>\n",
       "    <tr style=\"text-align: right;\">\n",
       "      <th></th>\n",
       "      <th>ano_ingresso</th>\n",
       "      <th>ano_referencia</th>\n",
       "      <th>cra</th>\n",
       "    </tr>\n",
       "  </thead>\n",
       "  <tbody>\n",
       "    <tr>\n",
       "      <th>count</th>\n",
       "      <td>46160.000000</td>\n",
       "      <td>46160.000000</td>\n",
       "      <td>46160.000000</td>\n",
       "    </tr>\n",
       "    <tr>\n",
       "      <th>mean</th>\n",
       "      <td>2012.348960</td>\n",
       "      <td>2015.447769</td>\n",
       "      <td>45.801744</td>\n",
       "    </tr>\n",
       "    <tr>\n",
       "      <th>std</th>\n",
       "      <td>1.634759</td>\n",
       "      <td>2.119995</td>\n",
       "      <td>35.046405</td>\n",
       "    </tr>\n",
       "    <tr>\n",
       "      <th>min</th>\n",
       "      <td>2010.000000</td>\n",
       "      <td>2010.000000</td>\n",
       "      <td>0.000000</td>\n",
       "    </tr>\n",
       "    <tr>\n",
       "      <th>25%</th>\n",
       "      <td>2011.000000</td>\n",
       "      <td>2014.000000</td>\n",
       "      <td>0.000040</td>\n",
       "    </tr>\n",
       "    <tr>\n",
       "      <th>50%</th>\n",
       "      <td>2012.000000</td>\n",
       "      <td>2016.000000</td>\n",
       "      <td>52.900000</td>\n",
       "    </tr>\n",
       "    <tr>\n",
       "      <th>75%</th>\n",
       "      <td>2014.000000</td>\n",
       "      <td>2017.000000</td>\n",
       "      <td>79.600000</td>\n",
       "    </tr>\n",
       "    <tr>\n",
       "      <th>max</th>\n",
       "      <td>2015.000000</td>\n",
       "      <td>2022.000000</td>\n",
       "      <td>100.000000</td>\n",
       "    </tr>\n",
       "  </tbody>\n",
       "</table>\n",
       "</div>"
      ],
      "text/plain": [
       "       ano_ingresso  ano_referencia           cra\n",
       "count  46160.000000    46160.000000  46160.000000\n",
       "mean    2012.348960     2015.447769     45.801744\n",
       "std        1.634759        2.119995     35.046405\n",
       "min     2010.000000     2010.000000      0.000000\n",
       "25%     2011.000000     2014.000000      0.000040\n",
       "50%     2012.000000     2016.000000     52.900000\n",
       "75%     2014.000000     2017.000000     79.600000\n",
       "max     2015.000000     2022.000000    100.000000"
      ]
     },
     "execution_count": 26,
     "metadata": {},
     "output_type": "execute_result"
    }
   ],
   "source": [
    "# Resumo das variáveis numéricas\n",
    "df1[nums].describe()"
   ]
  },
  {
   "cell_type": "code",
   "execution_count": 27,
   "id": "5b33682d",
   "metadata": {
    "scrolled": true
   },
   "outputs": [
    {
     "data": {
      "text/plain": [
       "VESTIBULAR                             24398\n",
       "ENEM/SiSU                              17330\n",
       "GRADUADO                                1702\n",
       "TRANSFERENCIA (PSTV)                    1051\n",
       "REOPCAO DE CURSO                         935\n",
       "REING. PRG RES CONSEPE no. 082 2011      191\n",
       "TRANSFERENCIA EX-OFICIO                  131\n",
       "ENEM/SISU-DECISÃO JUDICIAL                70\n",
       "PSS - POR LIMINAR                         43\n",
       "DECISAO CONSEPE-REC. PROC. SELETIVO       42\n",
       "PEC - MSC                                 37\n",
       "PEC-G                                     33\n",
       "REOPCAO DE TURNO                          30\n",
       "DECISAO JUDICIAL CAD PSS                  26\n",
       "TRANSFERENCIA POR FORCA LIMINAR           24\n",
       "PROGRAMA DE MOBILIDADE ESTUDANTIL         20\n",
       "REINGRESSO POR DECISAO DO CONSEPE         19\n",
       "MUDANCA DE CAMPUS/CURSO AUT CONSEPE       13\n",
       "PROGRAMA PIANI                            13\n",
       "REINGRESSO POR DECISAO JUDICIAL           11\n",
       "VESTIBULAR-PROESP/OUTROS ORG.PUB.         11\n",
       "CAD/AUT/PRG/RES 05/2012                    8\n",
       "REOPCAO PEC-G AUTORIZADO PELA PRG          4\n",
       "MUDANÇA CURRICULO POR DEC CONSEPE          3\n",
       "CAD FORA DE PRAZO AUTOR PELA PRG           3\n",
       "REOP DE CAMPI POR DECISAO CONSEPE          2\n",
       "Reopção - Decisão Judicial                 1\n",
       "ALUNO EM MOBILIDADE NACIONAL               1\n",
       "PSTV POR DECISAO DO CONSEPE                1\n",
       "TRANSFERÊNCIA POR DECISÃO JUDICIAL         1\n",
       "VESTIBULAR 2                               1\n",
       "ING. DE GRADUADO - DECISAO JUDICIAL        1\n",
       "VESTIBULAR-PROESP/UFPB                     1\n",
       "TRANSFERENCIA PEC-G                        1\n",
       "TRANSFERENCIA POR FORCA SENTENCA           1\n",
       "AUTORIZADO PROCURADORIA DA UFPB            1\n",
       "Name: forma_ingresso, dtype: int64"
      ]
     },
     "execution_count": 27,
     "metadata": {},
     "output_type": "execute_result"
    }
   ],
   "source": [
    "df1['forma_ingresso'].value_counts()"
   ]
  },
  {
   "cell_type": "markdown",
   "id": "193d6be0",
   "metadata": {},
   "source": [
    "Observações:\n",
    "\n",
    "   * As variáveis **ano_ingresso**, **ano_referencia** parecem ter uma distribuição simétrica. Elas mostram estar próximas de distribuição normal, pois os valores da média e mediana são parecidos.\n",
    "   \n",
    "   * Já a variável **cra** tem a média menor que a mediana o que nos diz que a distribuição dessa variável pode ser assimétrica positiva, ou seja, a cauda da curva de distribuição declina para direita.   "
   ]
  },
  {
   "cell_type": "markdown",
   "id": "ebe454ab",
   "metadata": {},
   "source": [
    "**Vejamos alguns histogramas para avaliar a distribuição das variáveis**"
   ]
  },
  {
   "cell_type": "code",
   "execution_count": 28,
   "id": "13f914fe",
   "metadata": {
    "scrolled": true
   },
   "outputs": [
    {
     "data": {
      "text/plain": [
       "<AxesSubplot:>"
      ]
     },
     "execution_count": 28,
     "metadata": {},
     "output_type": "execute_result"
    },
    {
     "data": {
      "image/png": "[encoded data removed]",
      "text/plain": [
       "<Figure size 1200x400 with 1 Axes>"
      ]
     },
     "metadata": {},
     "output_type": "display_data"
    }
   ],
   "source": [
    "df1['cra'].hist()"
   ]
  },
  {
   "cell_type": "markdown",
   "id": "d9ba95eb",
   "metadata": {},
   "source": [
    "Como tínhamos visto anteriormente a variável **cra** não segue uma distribuição normal. Vimos ainda que, esse vetor indicava ter uma distribuição assimétrica positiva na qual sua cauda se alongava para a direita.\n",
    "Ao observar o gráfico é visto várias contagens próximo do valor *0* e esse número reduz de forma brusca logo em seguida."
   ]
  },
  {
   "cell_type": "code",
   "execution_count": 29,
   "id": "050d8ec1",
   "metadata": {},
   "outputs": [
    {
     "data": {
      "text/plain": [
       "<AxesSubplot:>"
      ]
     },
     "execution_count": 29,
     "metadata": {},
     "output_type": "execute_result"
    },
    {
     "data": {
      "image/png": "[encoded data removed]",
      "text/plain": [
       "<Figure size 1200x400 with 1 Axes>"
      ]
     },
     "metadata": {},
     "output_type": "display_data"
    }
   ],
   "source": [
    "df1['ano_ingresso'].hist(bins=[2010,2012,2014,2016])"
   ]
  },
  {
   "cell_type": "markdown",
   "id": "f073c325",
   "metadata": {},
   "source": [
    "Esse histograma apresenta uma distribuição uniforme, isso nos diz que cada frequência apresenta aproximadamente o mesmo número de observações."
   ]
  },
  {
   "cell_type": "code",
   "execution_count": 30,
   "id": "675f48dd",
   "metadata": {
    "scrolled": true
   },
   "outputs": [
    {
     "data": {
      "text/plain": [
       "<AxesSubplot:>"
      ]
     },
     "execution_count": 30,
     "metadata": {},
     "output_type": "execute_result"
    },
    {
     "data": {
      "image/png": "[encoded data removed]",
      "text/plain": [
       "<Figure size 1200x400 with 1 Axes>"
      ]
     },
     "metadata": {},
     "output_type": "display_data"
    }
   ],
   "source": [
    "df1.loc[df1['ano_referencia'] < 2021, 'ano_referencia'].hist()"
   ]
  },
  {
   "cell_type": "markdown",
   "id": "7e696d84",
   "metadata": {},
   "source": [
    "A variável **ano_referencia** tem uma distribuição próxima de uma distribuição normal."
   ]
  },
  {
   "cell_type": "markdown",
   "id": "f216934c",
   "metadata": {},
   "source": [
    "### **Análise Univariada - Box Plots**"
   ]
  },
  {
   "cell_type": "code",
   "execution_count": 31,
   "id": "ef885de4",
   "metadata": {},
   "outputs": [
    {
     "data": {
      "image/png": "[encoded data removed]",
      "text/plain": [
       "<Figure size 1500x500 with 1 Axes>"
      ]
     },
     "metadata": {},
     "output_type": "display_data"
    }
   ],
   "source": [
    "# Criação do boxplot\n",
    "plt.figure(figsize=(15, 5))  # define o tamanho da figura\n",
    "sns.boxplot(x=df1['cra'], color='magenta', width=0.3)  # ajusta a largura da caixa\n",
    "\n",
    "# Configuração dos eixos e do título\n",
    "plt.xlabel(\"CRA\")\n",
    "plt.title(\"Distribuição do CRA\")\n",
    "\n",
    "# Mostrar o gráfico\n",
    "plt.show()"
   ]
  },
  {
   "cell_type": "markdown",
   "id": "c68dd5ef",
   "metadata": {},
   "source": [
    "**cra**\n",
    "\n",
    "1. A linha da mediana do vetor **cra** está próximo de *53*. É possível observa maior concentração dos dados no primeiro quartil.\n",
    "2. Os valores mínimo e máximo foram respectivamente o ano de 0 e 100.\n",
    "3. Não foram identificados valores outliers para a variável **cra**."
   ]
  },
  {
   "cell_type": "markdown",
   "id": "2e517cd1",
   "metadata": {},
   "source": [
    "### 2.4.3 Explorando as Variáveis Categóricas"
   ]
  },
  {
   "cell_type": "code",
   "execution_count": 32,
   "id": "4092338a",
   "metadata": {},
   "outputs": [
    {
     "data": {
      "text/html": [
       "<div>\n",
       "<style scoped>\n",
       "    .dataframe tbody tr th:only-of-type {\n",
       "        vertical-align: middle;\n",
       "    }\n",
       "\n",
       "    .dataframe tbody tr th {\n",
       "        vertical-align: top;\n",
       "    }\n",
       "\n",
       "    .dataframe thead th {\n",
       "        text-align: right;\n",
       "    }\n",
       "</style>\n",
       "<table border=\"1\" class=\"dataframe\">\n",
       "  <thead>\n",
       "    <tr style=\"text-align: right;\">\n",
       "      <th></th>\n",
       "      <th>campus</th>\n",
       "      <th>codigo_inep</th>\n",
       "      <th>curso_nome</th>\n",
       "      <th>turno</th>\n",
       "      <th>periodo_ingresso</th>\n",
       "      <th>forma_ingresso</th>\n",
       "      <th>status</th>\n",
       "      <th>id_discente</th>\n",
       "      <th>periodo_referencia</th>\n",
       "      <th>forma_evasão</th>\n",
       "      <th>cota</th>\n",
       "      <th>etnia</th>\n",
       "      <th>sexo</th>\n",
       "      <th>data_nascimento</th>\n",
       "      <th>uf_naturalidade</th>\n",
       "      <th>mun_residencia</th>\n",
       "      <th>uf_residencia</th>\n",
       "      <th>estado_civil</th>\n",
       "      <th>ingresso_sisu</th>\n",
       "      <th>aluno_migrante</th>\n",
       "    </tr>\n",
       "  </thead>\n",
       "  <tbody>\n",
       "    <tr>\n",
       "      <th>count</th>\n",
       "      <td>46160</td>\n",
       "      <td>46160.0</td>\n",
       "      <td>46160</td>\n",
       "      <td>46160</td>\n",
       "      <td>46160</td>\n",
       "      <td>46160</td>\n",
       "      <td>46160</td>\n",
       "      <td>46160</td>\n",
       "      <td>46160.0</td>\n",
       "      <td>46160</td>\n",
       "      <td>46160</td>\n",
       "      <td>46160</td>\n",
       "      <td>46160</td>\n",
       "      <td>46160</td>\n",
       "      <td>46160</td>\n",
       "      <td>46160</td>\n",
       "      <td>46160</td>\n",
       "      <td>46160</td>\n",
       "      <td>46160</td>\n",
       "      <td>46160</td>\n",
       "    </tr>\n",
       "    <tr>\n",
       "      <th>unique</th>\n",
       "      <td>4</td>\n",
       "      <td>114.0</td>\n",
       "      <td>91</td>\n",
       "      <td>4</td>\n",
       "      <td>2</td>\n",
       "      <td>36</td>\n",
       "      <td>2</td>\n",
       "      <td>44732</td>\n",
       "      <td>5.0</td>\n",
       "      <td>18</td>\n",
       "      <td>17</td>\n",
       "      <td>6</td>\n",
       "      <td>2</td>\n",
       "      <td>9015</td>\n",
       "      <td>29</td>\n",
       "      <td>500</td>\n",
       "      <td>28</td>\n",
       "      <td>9</td>\n",
       "      <td>2</td>\n",
       "      <td>2</td>\n",
       "    </tr>\n",
       "    <tr>\n",
       "      <th>top</th>\n",
       "      <td>João Pessoa</td>\n",
       "      <td>13418.0</td>\n",
       "      <td>PEDAGOGIA</td>\n",
       "      <td>Matutino e Vespertino</td>\n",
       "      <td>1</td>\n",
       "      <td>VESTIBULAR</td>\n",
       "      <td>CANCELADO</td>\n",
       "      <td>133500</td>\n",
       "      <td>1.0</td>\n",
       "      <td>CONCLUÍDO</td>\n",
       "      <td>Ampla Concorrência</td>\n",
       "      <td>Branco</td>\n",
       "      <td>F</td>\n",
       "      <td>1992-05-20 00:00:00</td>\n",
       "      <td>Paraíba</td>\n",
       "      <td>João Pessoa</td>\n",
       "      <td>Paraíba</td>\n",
       "      <td>Solteiro(a)</td>\n",
       "      <td>0</td>\n",
       "      <td>0</td>\n",
       "    </tr>\n",
       "    <tr>\n",
       "      <th>freq</th>\n",
       "      <td>38739</td>\n",
       "      <td>1791.0</td>\n",
       "      <td>2476</td>\n",
       "      <td>27378</td>\n",
       "      <td>27570</td>\n",
       "      <td>24398</td>\n",
       "      <td>27542</td>\n",
       "      <td>6</td>\n",
       "      <td>26736.0</td>\n",
       "      <td>18097</td>\n",
       "      <td>36031</td>\n",
       "      <td>17885</td>\n",
       "      <td>23580</td>\n",
       "      <td>29</td>\n",
       "      <td>38915</td>\n",
       "      <td>29470</td>\n",
       "      <td>43022</td>\n",
       "      <td>39767</td>\n",
       "      <td>28830</td>\n",
       "      <td>43022</td>\n",
       "    </tr>\n",
       "  </tbody>\n",
       "</table>\n",
       "</div>"
      ],
      "text/plain": [
       "             campus  codigo_inep curso_nome                  turno  \\\n",
       "count         46160      46160.0      46160                  46160   \n",
       "unique            4        114.0         91                      4   \n",
       "top     João Pessoa      13418.0  PEDAGOGIA  Matutino e Vespertino   \n",
       "freq          38739       1791.0       2476                  27378   \n",
       "\n",
       "        periodo_ingresso forma_ingresso     status  id_discente  \\\n",
       "count              46160          46160      46160        46160   \n",
       "unique                 2             36          2        44732   \n",
       "top                    1     VESTIBULAR  CANCELADO       133500   \n",
       "freq               27570          24398      27542            6   \n",
       "\n",
       "        periodo_referencia forma_evasão                cota   etnia   sexo  \\\n",
       "count              46160.0        46160               46160   46160  46160   \n",
       "unique                 5.0           18                  17       6      2   \n",
       "top                    1.0    CONCLUÍDO  Ampla Concorrência  Branco      F   \n",
       "freq               26736.0        18097               36031   17885  23580   \n",
       "\n",
       "            data_nascimento uf_naturalidade mun_residencia uf_residencia  \\\n",
       "count                 46160           46160          46160         46160   \n",
       "unique                 9015              29            500            28   \n",
       "top     1992-05-20 00:00:00         Paraíba    João Pessoa       Paraíba   \n",
       "freq                     29           38915          29470         43022   \n",
       "\n",
       "       estado_civil  ingresso_sisu  aluno_migrante  \n",
       "count         46160          46160           46160  \n",
       "unique            9              2               2  \n",
       "top     Solteiro(a)              0               0  \n",
       "freq          39767          28830           43022  "
      ]
     },
     "execution_count": 32,
     "metadata": {},
     "output_type": "execute_result"
    }
   ],
   "source": [
    "df1[cats].describe()"
   ]
  },
  {
   "cell_type": "markdown",
   "id": "7f12ed4a",
   "metadata": {},
   "source": [
    "Observações:\n",
    "   * A variável **forma_ingresso** tem como classe dominante o *VESTIBULAR*;\n",
    "   * Para a variável **status** a classe dominante foi *CANCELADO*;\n",
    "   * Já a variável **forma_evasão** a classe dominante é *CONCLUÍDO*;\n",
    "   * A variável **cota** tem *AMPLA COMCORRÊNCIA* como classe dominante;\n",
    "   * Para a variável **etnia** a classe *BRANCO* é dominante;\n",
    "   * **Sexo** tem como classe dominante *F* que representa o sexo feminino;\n",
    "   * Para **ingresso_sisu** a classe dominante é *0* que representa os estudantes que ingressaram pelo SISU;\n",
    "   * Já **aluno_migrante** a classe que domina também é *0* representando os estudantes com residência no estado da Paraíba."
   ]
  },
  {
   "cell_type": "code",
   "execution_count": 33,
   "id": "e5f2656e",
   "metadata": {},
   "outputs": [
    {
     "name": "stdout",
     "output_type": "stream",
     "text": [
      "Total de Registros Por Categoria da Variável status:\n",
      "CANCELADO    27542\n",
      "CONCLUÍDO    18618\n",
      "Name: status, dtype: int64\n",
      "\n",
      "Total de Registros Por Categoria da Variável etnia:\n",
      "Branco           17885\n",
      "Pardo            16426\n",
      "Não Informado     7481\n",
      "Negro             3070\n",
      "Amarelo            958\n",
      "Indígeno           340\n",
      "Name: etnia, dtype: int64\n",
      "\n",
      "Total de Registros Por Categoria da Variável sexo:\n",
      "F    23580\n",
      "M    22580\n",
      "Name: sexo, dtype: int64\n",
      "\n",
      "Total de Registros Por Categoria da Variável ingresso_sisu:\n",
      "0    28830\n",
      "1    17330\n",
      "Name: ingresso_sisu, dtype: int64\n",
      "\n",
      "Total de Registros Por Categoria da Variável aluno_migrante:\n",
      "0    43022\n",
      "1     3138\n",
      "Name: aluno_migrante, dtype: int64\n",
      "\n"
     ]
    }
   ],
   "source": [
    "# Listando o total por categoria de cada variável categórica\n",
    "var = ['status', 'etnia', 'sexo', 'ingresso_sisu', 'aluno_migrante']\n",
    "for col in var:\n",
    "    print(f'''Total de Registros Por Categoria da Variável {col}:''')\n",
    "    print(df1[col].value_counts())\n",
    "    print()"
   ]
  },
  {
   "cell_type": "markdown",
   "id": "9a27a017",
   "metadata": {},
   "source": [
    "**Logo abaixo veremos características e informações dos alunos considerados Não Migrantes**\n",
    "    \n",
    "   * Considerei como aluno não migrante os estudantes que tem residência na Paraíba."
   ]
  },
  {
   "cell_type": "code",
   "execution_count": 34,
   "id": "d1ed86b3",
   "metadata": {},
   "outputs": [
    {
     "data": {
      "image/png": "[encoded data removed]",
      "text/plain": [
       "<Figure size 1500x800 with 1 Axes>"
      ]
     },
     "metadata": {},
     "output_type": "display_data"
    }
   ],
   "source": [
    "# Gráfico 1 - Análise em Valores Absolutos\n",
    "\n",
    "# Tamanho da figura\n",
    "plt.figure(figsize = (15,8))\n",
    "\n",
    "# Selecionando a paleta de cores\n",
    "palette = sns.color_palette(\"pastel\")\n",
    "\n",
    "# Chart\n",
    "chart = sns.countplot(data = df1.loc[(df1['aluno_migrante'] == 0)], x = 'sexo', palette = palette)\n",
    "\n",
    "# Estilo e labels\n",
    "sns.set(font_scale = 1.5)\n",
    "sns.set_style('whitegrid')\n",
    "sns.set_palette('prism')\n",
    "chart.set_xlabel(\"\\nSexo\", fontsize = 14)\n",
    "chart.set_ylabel(\"Total\", fontsize = 14)\n",
    "\n",
    "# Adicionado Título\n",
    "chart.text(x = -0.5,\n",
    "           y = 24500,\n",
    "           s = \"Sexo dos Alunos Não Migrantes\",\n",
    "           fontsize = 25,\n",
    "           weight = 'bold',\n",
    "           alpha = .75);"
   ]
  },
  {
   "cell_type": "markdown",
   "id": "c0d9cb30",
   "metadata": {},
   "source": [
    "* Observando a distribuição dos alunos considerado como não migrantes, foi visto que a maioria é do sexo **feminino**. Contudo ao observar o gráfico não parece existir grande diferença entre os sexos **masculino** e **feminino** desses alunos."
   ]
  },
  {
   "cell_type": "code",
   "execution_count": 35,
   "id": "e3b38436",
   "metadata": {},
   "outputs": [
    {
     "data": {
      "image/png": "[encoded data removed]",
      "text/plain": [
       "<Figure size 1500x800 with 1 Axes>"
      ]
     },
     "metadata": {},
     "output_type": "display_data"
    }
   ],
   "source": [
    "# Gráfico 2 - Análise em Valores Absolutos\n",
    "\n",
    "# Tamanho da figura\n",
    "plt.figure(figsize = (15,8))\n",
    "\n",
    "# Selecionando a paleta de cores\n",
    "palette = sns.color_palette(\"pastel\")\n",
    "\n",
    "# Chart\n",
    "chart = sns.countplot(data = df1.loc[(df1['aluno_migrante'] == 0)], x = 'etnia',  palette=palette)\n",
    "\n",
    "# Estilo e labels\n",
    "sns.set(font_scale = 1.5)\n",
    "sns.set_style('whitegrid')\n",
    "sns.set_palette('prism')\n",
    "chart.set_xlabel(\"\\nEtnia\", fontsize = 14)\n",
    "chart.set_ylabel(\"Total\", fontsize = 14)\n",
    "\n",
    "# Adicionado Título\n",
    "chart.text(x = -0.5,\n",
    "           y = 18500,\n",
    "           s = \"Etnia dos Alunos Não Migrantes\",\n",
    "           fontsize = 25,\n",
    "           weight = 'bold',\n",
    "           alpha = .75);"
   ]
  },
  {
   "cell_type": "markdown",
   "id": "45f4c158",
   "metadata": {},
   "source": [
    "* Ao analisar a frequência dos alunos não migrantes de acordo com a etnia é visto que:\n",
    "\n",
    "    1. em sua maioria os alunos não migrantes são **Brancos** e **Pardos**; \n",
    "\n",
    "    2. Ainda é possível ver que os grupos com menor representatividade são os **Indígenas** e **Amarelos**;\n",
    "\n",
    "    3. É importante ressaltar ainda que de acordo com os dados presentes boa parte desses estudantes não tem sua etnia informada."
   ]
  },
  {
   "cell_type": "code",
   "execution_count": 36,
   "id": "7cd1bd21",
   "metadata": {},
   "outputs": [
    {
     "data": {
      "image/png": "[encoded data removed]",
      "text/plain": [
       "<Figure size 1500x800 with 1 Axes>"
      ]
     },
     "metadata": {},
     "output_type": "display_data"
    }
   ],
   "source": [
    "# Gráfico 3 - Análise em Valores Absolutos\n",
    "\n",
    "# Tamanho da figura\n",
    "plt.figure(figsize = (15,8))\n",
    "\n",
    "# Selecionando a paleta de cores\n",
    "palette = sns.color_palette(\"pastel\")\n",
    "\n",
    "# Chart\n",
    "chart = sns.countplot(data = df1.loc[(df1['aluno_migrante'] == 0)], x = 'ingresso_sisu', palette = palette)\n",
    "\n",
    "# Estilo e labels\n",
    "sns.set(font_scale = 1.5)\n",
    "sns.set_style('whitegrid')\n",
    "sns.set_palette('prism')\n",
    "chart.set_xlabel(\"\\nIngresso Sisu\", fontsize = 14)\n",
    "chart.set_ylabel(\"Total\", fontsize = 14)\n",
    "\n",
    "# Adicionado Título\n",
    "chart.text(x = -0.5,\n",
    "           y = 30500,\n",
    "           s = \"Alunos Não Migrantes: Ingresso Sisu\",\n",
    "           fontsize = 25,\n",
    "           weight = 'bold',\n",
    "           alpha = .75);"
   ]
  },
  {
   "cell_type": "markdown",
   "id": "d00e416b",
   "metadata": {},
   "source": [
    "É possível ver no plot acima que a maior parte dos estudantes residentes na PB, ingressaram na UFPB por sistemas de seleção distintos do Sisu."
   ]
  },
  {
   "cell_type": "code",
   "execution_count": 37,
   "id": "99e9238e",
   "metadata": {},
   "outputs": [
    {
     "data": {
      "image/png": "[encoded data removed]",
      "text/plain": [
       "<Figure size 1500x800 with 1 Axes>"
      ]
     },
     "metadata": {},
     "output_type": "display_data"
    }
   ],
   "source": [
    "# Gráfico 4 - Análise em Valores Absolutos\n",
    "\n",
    "# Tamanho da figura\n",
    "plt.figure(figsize = (15,8))\n",
    "\n",
    "# Selecionando a paleta de cores\n",
    "palette = sns.color_palette(\"pastel\")\n",
    "\n",
    "# Chart\n",
    "chart = sns.countplot(data = df1.loc[(df1['aluno_migrante'] == 0)], x = 'status', palette = palette)\n",
    "\n",
    "# Estilo e labels\n",
    "sns.set(font_scale = 1.5)\n",
    "sns.set_style('whitegrid')\n",
    "sns.set_palette('prism')\n",
    "chart.set_xlabel(\"\\nStatus\", fontsize = 14)\n",
    "chart.set_ylabel(\"Total\", fontsize = 14)\n",
    "\n",
    "# Adicionado Título\n",
    "chart.text(x = -0.5,\n",
    "           y = 27500,\n",
    "           s = \"Status de Curso dos Alunos Não Migrantes\",\n",
    "           fontsize = 25,\n",
    "           weight = 'bold',\n",
    "           alpha = .75);"
   ]
  },
  {
   "cell_type": "markdown",
   "id": "5c3953b4",
   "metadata": {},
   "source": [
    "Nesse gráfico é possível ver que a contagem de frequência para os alunos não migrantes que tiveram seus cursos **cancelados** é maior que os **concluídos**."
   ]
  },
  {
   "cell_type": "markdown",
   "id": "57d0119b",
   "metadata": {},
   "source": [
    "### **Agora veremos informações e características dos alunos migrantes** \n",
    "\n",
    "   * Considerei como aluno migrante os estudantes que tem residência em estados diferente do estado da Paraíba."
   ]
  },
  {
   "cell_type": "code",
   "execution_count": 38,
   "id": "80772ef1",
   "metadata": {
    "scrolled": true
   },
   "outputs": [
    {
     "data": {
      "image/png": "[encoded data removed]",
      "text/plain": [
       "<Figure size 1500x800 with 1 Axes>"
      ]
     },
     "metadata": {},
     "output_type": "display_data"
    }
   ],
   "source": [
    "# Gráfico 5 - Análise em Valores Absolutos\n",
    "\n",
    "# Tamanho da figura\n",
    "plt.figure(figsize = (15,8))\n",
    "\n",
    "# Selecionando a paleta de cores\n",
    "palette = sns.color_palette(\"pastel\")\n",
    "\n",
    "# Chart\n",
    "chart = sns.countplot(data = df1.loc[(df1['aluno_migrante'] == 1)], x = 'sexo', palette = palette)\n",
    "\n",
    "# Estilo e labels\n",
    "sns.set(font_scale = 1.5)\n",
    "sns.set_style('whitegrid')\n",
    "sns.set_palette('prism')\n",
    "chart.set_xlabel(\"\\nsexo\", fontsize = 14)\n",
    "chart.set_ylabel(\"Total\", fontsize = 14)\n",
    "\n",
    "# Adicionado Título\n",
    "chart.text(x = -0.5,\n",
    "           y = 1850,\n",
    "           s = \"Sexo dos Alunos Migrantes\",\n",
    "           fontsize = 25,\n",
    "           weight = 'bold',\n",
    "           alpha = .75);"
   ]
  },
  {
   "cell_type": "markdown",
   "id": "9e371f6e",
   "metadata": {},
   "source": [
    "Observando a frequência do sexo dos alunos migrantes podemos identificar uma pequena diferença entre os sexo **M** e **F**, no qual o sexo **M** tem um número maior de representantes que o **F**."
   ]
  },
  {
   "cell_type": "code",
   "execution_count": 39,
   "id": "6945affe",
   "metadata": {},
   "outputs": [
    {
     "data": {
      "image/png": "[encoded data removed]",
      "text/plain": [
       "<Figure size 1500x800 with 1 Axes>"
      ]
     },
     "metadata": {},
     "output_type": "display_data"
    }
   ],
   "source": [
    "# Gráfico 6 - Análise em Valores Absolutos\n",
    "\n",
    "# Tamanho da figura\n",
    "plt.figure(figsize = (15,8))\n",
    "\n",
    "# Selecionando a paleta de cores\n",
    "palette = sns.color_palette(\"pastel\")\n",
    "\n",
    "# Chart\n",
    "chart = sns.countplot(data = df1.loc[(df1['aluno_migrante'] == 1)], x = 'etnia',  palette=palette)\n",
    "\n",
    "# Estilo e labels\n",
    "sns.set(font_scale = 1.5)\n",
    "sns.set_style('whitegrid')\n",
    "sns.set_palette('prism')\n",
    "chart.set_xlabel(\"\\nEtnia\", fontsize = 14)\n",
    "chart.set_ylabel(\"Total\", fontsize = 14)\n",
    "\n",
    "# Adicionado Título\n",
    "chart.text(x = -0.5,\n",
    "           y = 1350,\n",
    "           s = \"Etnia dos Alunos Migrantes\",\n",
    "           fontsize = 25,\n",
    "           weight = 'bold',\n",
    "           alpha = .75);"
   ]
  },
  {
   "cell_type": "markdown",
   "id": "b40a62ed",
   "metadata": {},
   "source": [
    "* Assim como foi visto no grupo dos alunos não migrante, os **Brancos** e **Pardos** também são os mais representativos para o grupo do estudantes migrantes.\n",
    " * É importante ressaltar que o maior número de contagem observada para esse grupo **não tem sua etnia informada**.\n",
    " * Para os **Indígenas** e **Amarelos** são os que apresentaram menor frequência."
   ]
  },
  {
   "cell_type": "code",
   "execution_count": 40,
   "id": "1739981c",
   "metadata": {
    "scrolled": true
   },
   "outputs": [
    {
     "data": {
      "image/png": "[encoded data removed]",
      "text/plain": [
       "<Figure size 1500x800 with 1 Axes>"
      ]
     },
     "metadata": {},
     "output_type": "display_data"
    }
   ],
   "source": [
    "# Gráfico 7 - Análise em Valores Absolutos\n",
    "\n",
    "# Tamanho da figura\n",
    "plt.figure(figsize = (15,8))\n",
    "\n",
    "# Selecionando a paleta de cores\n",
    "palette = sns.color_palette(\"pastel\")\n",
    "\n",
    "# Chart\n",
    "chart = sns.countplot(data = df1.loc[(df1['aluno_migrante'] == 1)], x = 'ingresso_sisu', palette = palette)\n",
    "\n",
    "# Estilo e labels\n",
    "sns.set(font_scale = 1.5)\n",
    "sns.set_style('whitegrid')\n",
    "sns.set_palette('prism')\n",
    "chart.set_xlabel(\"\\nIngresso Sisu\", fontsize = 14)\n",
    "chart.set_ylabel(\"Total\", fontsize = 14)\n",
    "\n",
    "# Adicionado Título\n",
    "chart.text(x = -0.5,\n",
    "           y = 2400,\n",
    "           s = \"Alunos Migrantes: Ingresso Sisu\",\n",
    "           fontsize = 25,\n",
    "           weight = 'bold',\n",
    "           alpha = .75);"
   ]
  },
  {
   "cell_type": "markdown",
   "id": "212e2707",
   "metadata": {},
   "source": [
    "No gráfico acima podemos ver que a principal forma de ingresso para o grupo do alunos migrante é o Sisu."
   ]
  },
  {
   "cell_type": "code",
   "execution_count": 41,
   "id": "c49f42f0",
   "metadata": {
    "scrolled": true
   },
   "outputs": [
    {
     "data": {
      "image/png": "[encoded data removed]",
      "text/plain": [
       "<Figure size 1500x800 with 1 Axes>"
      ]
     },
     "metadata": {},
     "output_type": "display_data"
    }
   ],
   "source": [
    "# Gráfico 8 - Análise em Valores Absolutos\n",
    "\n",
    "# Tamanho da figura\n",
    "plt.figure(figsize = (15,8))\n",
    "\n",
    "# Selecionando a paleta de cores\n",
    "palette = sns.color_palette(\"pastel\")\n",
    "\n",
    "# Chart\n",
    "chart = sns.countplot(data = df1.loc[(df1['aluno_migrante'] == 1)], x = 'status', palette = palette)\n",
    "\n",
    "# Estilo e labels\n",
    "sns.set(font_scale = 1.5)\n",
    "sns.set_style('whitegrid')\n",
    "sns.set_palette('prism')\n",
    "chart.set_xlabel(\"\\nStatus\", fontsize = 14)\n",
    "chart.set_ylabel(\"Total\", fontsize = 14)\n",
    "\n",
    "# Adicionado Título\n",
    "chart.text(x = -0.5,\n",
    "           y = 2400,\n",
    "           s = \"Status de Curso dos Alunos Migrantes \",\n",
    "           fontsize = 25,\n",
    "           weight = 'bold',\n",
    "           alpha = .75);"
   ]
  },
  {
   "cell_type": "markdown",
   "id": "90fe0340",
   "metadata": {},
   "source": [
    "Os estudantes considerados como migrantes apresentam maior frequência para o status de curso **cancelado** em comparação com **concluído**."
   ]
  },
  {
   "cell_type": "markdown",
   "id": "7be16a98",
   "metadata": {},
   "source": [
    "#### Algumas considerações sobre os grupos dos *Migrantes* e *Não Migrantes*:\n",
    "\n",
    "   1. **SEXO** - Os ***migrantes*** apresentaram maior frequência para os estudantes do sexo *MASCULINO*, já o grupo dos alunos ***não migrantes*** apresentou maior contagem para o sexo *FEMININO*. Porém em ambos os casos não foi identificado diferença de grande magnitude.\n",
    "   \n",
    "   \n",
    "   2. **ETNIA** - Os estudantes ***migrantes*** e **Não migrantes** são representados em sua maioria pode alunos considerados *BRANCOS* e *PARDOS*. Esses dois grupos de estudantes também apresentaram um padrão semelhante com os *INDÍGENAS* e *AMARELOS* esses com menor frequência em ambos os grupos. Ainda existe um categoria de estudantes que não tem sua etnia informada e para esses os ***migrantes*** apresentou maior contagem superando os *BRANCOS* e *PARDOS*.\n",
    "   \n",
    "   \n",
    "   3. **INGRESSO SISU** - Foi observado que a maior parte do estudantes ***migrantes*** ingressaram na UFPB por meio do Sistema de Seleção Unificada (sisu), já o grupo dos alunos **Não migrantes** ingressaram na UFPB por meio de sistemas de seleção diferentes do Sisu como vestibular e outros meios de acesso à universidade. \n",
    "   \n",
    "   \n",
    "   4. **STATUS** - Para essa variável ambos os grupos apresentaram um padrão semelhante, foi visto que estudantes***migrantes*** e **Não migrantes** indicaram maior frequência para o status de curso *CANCELADO* em comparação com o status de curso *CONCLUÍDO*.\n",
    "   \n",
    "   \n",
    "É importante ressaltar que não é adequado fazer comparações com relação aos grupos dos estudantes ***Migrantes*** e **Não migrantes** em termos absolutos para isso seria necessário fazer uma comparação em termos de proporção, pois existe uma grande diferença de observações para esses grupos. Isto posto, a análise acima é direcionada de forma individual para ambos os grupos objetivando identificar padrões nessas variáveis."
   ]
  },
  {
   "cell_type": "markdown",
   "id": "a191eb97",
   "metadata": {},
   "source": [
    "### 2.4.8 Análise Bivariada - Mapa de Associação"
   ]
  },
  {
   "cell_type": "code",
   "execution_count": 42,
   "id": "804eaf8f",
   "metadata": {},
   "outputs": [
    {
     "name": "stdout",
     "output_type": "stream",
     "text": [
      "Coeficiente de contingência: 0.1668226848010214\n"
     ]
    }
   ],
   "source": [
    "from scipy.stats import chi2_contingency\n",
    "\n",
    "# Cria uma tabela de contingência para as variáveis categóricas\n",
    "table = pd.crosstab(df1['aluno_migrante'], df1['cra'])\n",
    "\n",
    "# Executa o teste qui-quadrado e armazena o resultado na variável chi2\n",
    "chi2, p_value, dof, expected = chi2_contingency(table)\n",
    "\n",
    "# Calcula o coeficiente de contingência\n",
    "n = table.sum().sum()\n",
    "cont_coef = np.sqrt(chi2 / (n * (min(table.shape)-1)))\n",
    " \n",
    "# Imprime o resultado\n",
    "print('Coeficiente de contingência:', cont_coef)"
   ]
  },
  {
   "cell_type": "code",
   "execution_count": 43,
   "id": "544091b3",
   "metadata": {},
   "outputs": [
    {
     "data": {
      "text/plain": [
       "Index(['campus', 'codigo_inep', 'curso_nome', 'turno', 'ano_ingresso',\n",
       "       'periodo_ingresso', 'forma_ingresso', 'status', 'id_discente',\n",
       "       'ano_referencia', 'periodo_referencia', 'forma_evasão', 'cra', 'cota',\n",
       "       'etnia', 'sexo', 'data_nascimento', 'uf_naturalidade', 'mun_residencia',\n",
       "       'uf_residencia', 'estado_civil', 'ingresso_sisu', 'aluno_migrante'],\n",
       "      dtype='object')"
      ]
     },
     "execution_count": 43,
     "metadata": {},
     "output_type": "execute_result"
    }
   ],
   "source": [
    "df1.columns"
   ]
  },
  {
   "cell_type": "markdown",
   "id": "91bdc7b4",
   "metadata": {},
   "source": [
    "- Criando variável **Range**"
   ]
  },
  {
   "cell_type": "code",
   "execution_count": 44,
   "id": "1b235f53",
   "metadata": {},
   "outputs": [],
   "source": [
    "df1['Range'] = range(1, len(df1)+1)"
   ]
  },
  {
   "cell_type": "markdown",
   "id": "25f6b23c",
   "metadata": {},
   "source": [
    "- Criando **df_group1**: groupby das variáveis *aluno_migrante* e *status* e agregando pela variáveis *Range*."
   ]
  },
  {
   "cell_type": "code",
   "execution_count": 45,
   "id": "492bcfb9",
   "metadata": {},
   "outputs": [
    {
     "data": {
      "text/html": [
       "<div>\n",
       "<style scoped>\n",
       "    .dataframe tbody tr th:only-of-type {\n",
       "        vertical-align: middle;\n",
       "    }\n",
       "\n",
       "    .dataframe tbody tr th {\n",
       "        vertical-align: top;\n",
       "    }\n",
       "\n",
       "    .dataframe thead th {\n",
       "        text-align: right;\n",
       "    }\n",
       "</style>\n",
       "<table border=\"1\" class=\"dataframe\">\n",
       "  <thead>\n",
       "    <tr style=\"text-align: right;\">\n",
       "      <th></th>\n",
       "      <th>aluno_migrante</th>\n",
       "      <th>status</th>\n",
       "      <th>Range</th>\n",
       "    </tr>\n",
       "  </thead>\n",
       "  <tbody>\n",
       "    <tr>\n",
       "      <th>0</th>\n",
       "      <td>0</td>\n",
       "      <td>CANCELADO</td>\n",
       "      <td>25373</td>\n",
       "    </tr>\n",
       "    <tr>\n",
       "      <th>1</th>\n",
       "      <td>0</td>\n",
       "      <td>CONCLUÍDO</td>\n",
       "      <td>17649</td>\n",
       "    </tr>\n",
       "    <tr>\n",
       "      <th>2</th>\n",
       "      <td>1</td>\n",
       "      <td>CANCELADO</td>\n",
       "      <td>2169</td>\n",
       "    </tr>\n",
       "    <tr>\n",
       "      <th>3</th>\n",
       "      <td>1</td>\n",
       "      <td>CONCLUÍDO</td>\n",
       "      <td>969</td>\n",
       "    </tr>\n",
       "  </tbody>\n",
       "</table>\n",
       "</div>"
      ],
      "text/plain": [
       "   aluno_migrante     status  Range\n",
       "0               0  CANCELADO  25373\n",
       "1               0  CONCLUÍDO  17649\n",
       "2               1  CANCELADO   2169\n",
       "3               1  CONCLUÍDO    969"
      ]
     },
     "execution_count": 45,
     "metadata": {},
     "output_type": "execute_result"
    }
   ],
   "source": [
    "df_group1 = df1.groupby(['aluno_migrante', 'status']).agg({'Range' :'nunique'}).reset_index()\n",
    "df_group1"
   ]
  },
  {
   "cell_type": "markdown",
   "id": "350f493f",
   "metadata": {},
   "source": [
    "- Criando **df_group2**: groupby de *aluno_migrante* e agregando por *Range*. "
   ]
  },
  {
   "cell_type": "code",
   "execution_count": 46,
   "id": "4c80dd3d",
   "metadata": {},
   "outputs": [
    {
     "data": {
      "text/html": [
       "<div>\n",
       "<style scoped>\n",
       "    .dataframe tbody tr th:only-of-type {\n",
       "        vertical-align: middle;\n",
       "    }\n",
       "\n",
       "    .dataframe tbody tr th {\n",
       "        vertical-align: top;\n",
       "    }\n",
       "\n",
       "    .dataframe thead th {\n",
       "        text-align: right;\n",
       "    }\n",
       "</style>\n",
       "<table border=\"1\" class=\"dataframe\">\n",
       "  <thead>\n",
       "    <tr style=\"text-align: right;\">\n",
       "      <th></th>\n",
       "      <th>aluno_migrante</th>\n",
       "      <th>Range</th>\n",
       "    </tr>\n",
       "  </thead>\n",
       "  <tbody>\n",
       "    <tr>\n",
       "      <th>0</th>\n",
       "      <td>0</td>\n",
       "      <td>43022</td>\n",
       "    </tr>\n",
       "    <tr>\n",
       "      <th>1</th>\n",
       "      <td>1</td>\n",
       "      <td>3138</td>\n",
       "    </tr>\n",
       "  </tbody>\n",
       "</table>\n",
       "</div>"
      ],
      "text/plain": [
       "   aluno_migrante  Range\n",
       "0               0  43022\n",
       "1               1   3138"
      ]
     },
     "execution_count": 46,
     "metadata": {},
     "output_type": "execute_result"
    }
   ],
   "source": [
    "df_group2 = df1.groupby('aluno_migrante').agg({'Range' : 'nunique'}).reset_index()\n",
    "df_group2"
   ]
  },
  {
   "cell_type": "markdown",
   "id": "d5bb50e8",
   "metadata": {},
   "source": [
    "- Criando **df_group3**: concatenação tabela **df_group1** com **df_group2** por *aluno_migrante*"
   ]
  },
  {
   "cell_type": "code",
   "execution_count": 47,
   "id": "d507d54c",
   "metadata": {
    "scrolled": true
   },
   "outputs": [
    {
     "data": {
      "text/html": [
       "<div>\n",
       "<style scoped>\n",
       "    .dataframe tbody tr th:only-of-type {\n",
       "        vertical-align: middle;\n",
       "    }\n",
       "\n",
       "    .dataframe tbody tr th {\n",
       "        vertical-align: top;\n",
       "    }\n",
       "\n",
       "    .dataframe thead th {\n",
       "        text-align: right;\n",
       "    }\n",
       "</style>\n",
       "<table border=\"1\" class=\"dataframe\">\n",
       "  <thead>\n",
       "    <tr style=\"text-align: right;\">\n",
       "      <th></th>\n",
       "      <th>aluno_migrante</th>\n",
       "      <th>status</th>\n",
       "      <th>Range_x</th>\n",
       "      <th>Range_y</th>\n",
       "    </tr>\n",
       "  </thead>\n",
       "  <tbody>\n",
       "    <tr>\n",
       "      <th>0</th>\n",
       "      <td>0</td>\n",
       "      <td>CANCELADO</td>\n",
       "      <td>25373</td>\n",
       "      <td>43022</td>\n",
       "    </tr>\n",
       "    <tr>\n",
       "      <th>1</th>\n",
       "      <td>0</td>\n",
       "      <td>CONCLUÍDO</td>\n",
       "      <td>17649</td>\n",
       "      <td>43022</td>\n",
       "    </tr>\n",
       "    <tr>\n",
       "      <th>2</th>\n",
       "      <td>1</td>\n",
       "      <td>CANCELADO</td>\n",
       "      <td>2169</td>\n",
       "      <td>3138</td>\n",
       "    </tr>\n",
       "    <tr>\n",
       "      <th>3</th>\n",
       "      <td>1</td>\n",
       "      <td>CONCLUÍDO</td>\n",
       "      <td>969</td>\n",
       "      <td>3138</td>\n",
       "    </tr>\n",
       "  </tbody>\n",
       "</table>\n",
       "</div>"
      ],
      "text/plain": [
       "   aluno_migrante     status  Range_x  Range_y\n",
       "0               0  CANCELADO    25373    43022\n",
       "1               0  CONCLUÍDO    17649    43022\n",
       "2               1  CANCELADO     2169     3138\n",
       "3               1  CONCLUÍDO      969     3138"
      ]
     },
     "execution_count": 47,
     "metadata": {},
     "output_type": "execute_result"
    }
   ],
   "source": [
    "df_group3 = df_group1.merge(df_group2, on = 'aluno_migrante')\n",
    "df_group3"
   ]
  },
  {
   "cell_type": "markdown",
   "id": "0d4bf208",
   "metadata": {},
   "source": [
    "- Criando coluna **Percentual(%)**"
   ]
  },
  {
   "cell_type": "code",
   "execution_count": 48,
   "id": "664dd872",
   "metadata": {
    "scrolled": true
   },
   "outputs": [
    {
     "data": {
      "text/html": [
       "<div>\n",
       "<style scoped>\n",
       "    .dataframe tbody tr th:only-of-type {\n",
       "        vertical-align: middle;\n",
       "    }\n",
       "\n",
       "    .dataframe tbody tr th {\n",
       "        vertical-align: top;\n",
       "    }\n",
       "\n",
       "    .dataframe thead th {\n",
       "        text-align: right;\n",
       "    }\n",
       "</style>\n",
       "<table border=\"1\" class=\"dataframe\">\n",
       "  <thead>\n",
       "    <tr style=\"text-align: right;\">\n",
       "      <th></th>\n",
       "      <th>aluno_migrante</th>\n",
       "      <th>status</th>\n",
       "      <th>Range_x</th>\n",
       "      <th>Range_y</th>\n",
       "      <th>Percentual(%)</th>\n",
       "    </tr>\n",
       "  </thead>\n",
       "  <tbody>\n",
       "    <tr>\n",
       "      <th>0</th>\n",
       "      <td>0</td>\n",
       "      <td>CANCELADO</td>\n",
       "      <td>25373</td>\n",
       "      <td>43022</td>\n",
       "      <td>58.976803</td>\n",
       "    </tr>\n",
       "    <tr>\n",
       "      <th>1</th>\n",
       "      <td>0</td>\n",
       "      <td>CONCLUÍDO</td>\n",
       "      <td>17649</td>\n",
       "      <td>43022</td>\n",
       "      <td>41.023197</td>\n",
       "    </tr>\n",
       "    <tr>\n",
       "      <th>2</th>\n",
       "      <td>1</td>\n",
       "      <td>CANCELADO</td>\n",
       "      <td>2169</td>\n",
       "      <td>3138</td>\n",
       "      <td>69.120459</td>\n",
       "    </tr>\n",
       "    <tr>\n",
       "      <th>3</th>\n",
       "      <td>1</td>\n",
       "      <td>CONCLUÍDO</td>\n",
       "      <td>969</td>\n",
       "      <td>3138</td>\n",
       "      <td>30.879541</td>\n",
       "    </tr>\n",
       "  </tbody>\n",
       "</table>\n",
       "</div>"
      ],
      "text/plain": [
       "   aluno_migrante     status  Range_x  Range_y  Percentual(%)\n",
       "0               0  CANCELADO    25373    43022      58.976803\n",
       "1               0  CONCLUÍDO    17649    43022      41.023197\n",
       "2               1  CANCELADO     2169     3138      69.120459\n",
       "3               1  CONCLUÍDO      969     3138      30.879541"
      ]
     },
     "execution_count": 48,
     "metadata": {},
     "output_type": "execute_result"
    }
   ],
   "source": [
    "df_group3['Percentual(%)'] = df_group3['Range_x'] / df_group3['Range_y'] * 100\n",
    "df_group3"
   ]
  },
  {
   "cell_type": "markdown",
   "id": "97eb8d49",
   "metadata": {},
   "source": [
    "- Renomenado variáveis"
   ]
  },
  {
   "cell_type": "code",
   "execution_count": 49,
   "id": "0c57936f",
   "metadata": {},
   "outputs": [
    {
     "data": {
      "text/html": [
       "<div>\n",
       "<style scoped>\n",
       "    .dataframe tbody tr th:only-of-type {\n",
       "        vertical-align: middle;\n",
       "    }\n",
       "\n",
       "    .dataframe tbody tr th {\n",
       "        vertical-align: top;\n",
       "    }\n",
       "\n",
       "    .dataframe thead th {\n",
       "        text-align: right;\n",
       "    }\n",
       "</style>\n",
       "<table border=\"1\" class=\"dataframe\">\n",
       "  <thead>\n",
       "    <tr style=\"text-align: right;\">\n",
       "      <th></th>\n",
       "      <th>Aluno Migrante</th>\n",
       "      <th>status</th>\n",
       "      <th>Total Por Categoria</th>\n",
       "      <th>Total Migrantes</th>\n",
       "      <th>Percentual M(%)</th>\n",
       "    </tr>\n",
       "  </thead>\n",
       "  <tbody>\n",
       "    <tr>\n",
       "      <th>0</th>\n",
       "      <td>0</td>\n",
       "      <td>CANCELADO</td>\n",
       "      <td>25373</td>\n",
       "      <td>43022</td>\n",
       "      <td>58.976803</td>\n",
       "    </tr>\n",
       "    <tr>\n",
       "      <th>1</th>\n",
       "      <td>0</td>\n",
       "      <td>CONCLUÍDO</td>\n",
       "      <td>17649</td>\n",
       "      <td>43022</td>\n",
       "      <td>41.023197</td>\n",
       "    </tr>\n",
       "    <tr>\n",
       "      <th>2</th>\n",
       "      <td>1</td>\n",
       "      <td>CANCELADO</td>\n",
       "      <td>2169</td>\n",
       "      <td>3138</td>\n",
       "      <td>69.120459</td>\n",
       "    </tr>\n",
       "    <tr>\n",
       "      <th>3</th>\n",
       "      <td>1</td>\n",
       "      <td>CONCLUÍDO</td>\n",
       "      <td>969</td>\n",
       "      <td>3138</td>\n",
       "      <td>30.879541</td>\n",
       "    </tr>\n",
       "  </tbody>\n",
       "</table>\n",
       "</div>"
      ],
      "text/plain": [
       "   Aluno Migrante     status  Total Por Categoria  Total Migrantes  \\\n",
       "0               0  CANCELADO                25373            43022   \n",
       "1               0  CONCLUÍDO                17649            43022   \n",
       "2               1  CANCELADO                 2169             3138   \n",
       "3               1  CONCLUÍDO                  969             3138   \n",
       "\n",
       "   Percentual M(%)  \n",
       "0        58.976803  \n",
       "1        41.023197  \n",
       "2        69.120459  \n",
       "3        30.879541  "
      ]
     },
     "execution_count": 49,
     "metadata": {},
     "output_type": "execute_result"
    }
   ],
   "source": [
    "df_group3.columns = ['Aluno Migrante',\n",
    "'status',\n",
    "'Total Por Categoria',\n",
    "'Total Migrantes',\n",
    "'Percentual M(%)']\n",
    "df_group3"
   ]
  },
  {
   "cell_type": "markdown",
   "id": "5865de36",
   "metadata": {},
   "source": [
    "- Calculando total de observações por **status**"
   ]
  },
  {
   "cell_type": "code",
   "execution_count": 50,
   "id": "3b843393",
   "metadata": {
    "scrolled": true
   },
   "outputs": [
    {
     "data": {
      "text/html": [
       "<div>\n",
       "<style scoped>\n",
       "    .dataframe tbody tr th:only-of-type {\n",
       "        vertical-align: middle;\n",
       "    }\n",
       "\n",
       "    .dataframe tbody tr th {\n",
       "        vertical-align: top;\n",
       "    }\n",
       "\n",
       "    .dataframe thead th {\n",
       "        text-align: right;\n",
       "    }\n",
       "</style>\n",
       "<table border=\"1\" class=\"dataframe\">\n",
       "  <thead>\n",
       "    <tr style=\"text-align: right;\">\n",
       "      <th></th>\n",
       "      <th>status</th>\n",
       "      <th>Range</th>\n",
       "    </tr>\n",
       "  </thead>\n",
       "  <tbody>\n",
       "    <tr>\n",
       "      <th>0</th>\n",
       "      <td>CANCELADO</td>\n",
       "      <td>27542</td>\n",
       "    </tr>\n",
       "    <tr>\n",
       "      <th>1</th>\n",
       "      <td>CONCLUÍDO</td>\n",
       "      <td>18618</td>\n",
       "    </tr>\n",
       "  </tbody>\n",
       "</table>\n",
       "</div>"
      ],
      "text/plain": [
       "      status  Range\n",
       "0  CANCELADO  27542\n",
       "1  CONCLUÍDO  18618"
      ]
     },
     "execution_count": 50,
     "metadata": {},
     "output_type": "execute_result"
    }
   ],
   "source": [
    "df_group4 = df1.groupby('status').agg({'Range' : 'nunique'}).reset_index()\n",
    "df_group4"
   ]
  },
  {
   "cell_type": "markdown",
   "id": "49924ada",
   "metadata": {},
   "source": [
    "- Concatenando total de status por categoria "
   ]
  },
  {
   "cell_type": "code",
   "execution_count": 51,
   "id": "23a68dc9",
   "metadata": {},
   "outputs": [
    {
     "data": {
      "text/html": [
       "<div>\n",
       "<style scoped>\n",
       "    .dataframe tbody tr th:only-of-type {\n",
       "        vertical-align: middle;\n",
       "    }\n",
       "\n",
       "    .dataframe tbody tr th {\n",
       "        vertical-align: top;\n",
       "    }\n",
       "\n",
       "    .dataframe thead th {\n",
       "        text-align: right;\n",
       "    }\n",
       "</style>\n",
       "<table border=\"1\" class=\"dataframe\">\n",
       "  <thead>\n",
       "    <tr style=\"text-align: right;\">\n",
       "      <th></th>\n",
       "      <th>Aluno Migrante</th>\n",
       "      <th>status</th>\n",
       "      <th>Total Por Categoria</th>\n",
       "      <th>Total Migrantes</th>\n",
       "      <th>Percentual M(%)</th>\n",
       "      <th>Range</th>\n",
       "    </tr>\n",
       "  </thead>\n",
       "  <tbody>\n",
       "    <tr>\n",
       "      <th>0</th>\n",
       "      <td>0</td>\n",
       "      <td>CANCELADO</td>\n",
       "      <td>25373</td>\n",
       "      <td>43022</td>\n",
       "      <td>58.976803</td>\n",
       "      <td>27542</td>\n",
       "    </tr>\n",
       "    <tr>\n",
       "      <th>1</th>\n",
       "      <td>1</td>\n",
       "      <td>CANCELADO</td>\n",
       "      <td>2169</td>\n",
       "      <td>3138</td>\n",
       "      <td>69.120459</td>\n",
       "      <td>27542</td>\n",
       "    </tr>\n",
       "    <tr>\n",
       "      <th>2</th>\n",
       "      <td>0</td>\n",
       "      <td>CONCLUÍDO</td>\n",
       "      <td>17649</td>\n",
       "      <td>43022</td>\n",
       "      <td>41.023197</td>\n",
       "      <td>18618</td>\n",
       "    </tr>\n",
       "    <tr>\n",
       "      <th>3</th>\n",
       "      <td>1</td>\n",
       "      <td>CONCLUÍDO</td>\n",
       "      <td>969</td>\n",
       "      <td>3138</td>\n",
       "      <td>30.879541</td>\n",
       "      <td>18618</td>\n",
       "    </tr>\n",
       "  </tbody>\n",
       "</table>\n",
       "</div>"
      ],
      "text/plain": [
       "   Aluno Migrante     status  Total Por Categoria  Total Migrantes  \\\n",
       "0               0  CANCELADO                25373            43022   \n",
       "1               1  CANCELADO                 2169             3138   \n",
       "2               0  CONCLUÍDO                17649            43022   \n",
       "3               1  CONCLUÍDO                  969             3138   \n",
       "\n",
       "   Percentual M(%)  Range  \n",
       "0        58.976803  27542  \n",
       "1        69.120459  27542  \n",
       "2        41.023197  18618  \n",
       "3        30.879541  18618  "
      ]
     },
     "execution_count": 51,
     "metadata": {},
     "output_type": "execute_result"
    }
   ],
   "source": [
    "df_group5 = df_group3.merge(df_group4, on = 'status')\n",
    "df_group5"
   ]
  },
  {
   "cell_type": "markdown",
   "id": "90071341",
   "metadata": {},
   "source": [
    "- Calculando percentual por total de status por categória"
   ]
  },
  {
   "cell_type": "code",
   "execution_count": 52,
   "id": "80be65f3",
   "metadata": {},
   "outputs": [
    {
     "data": {
      "text/html": [
       "<div>\n",
       "<style scoped>\n",
       "    .dataframe tbody tr th:only-of-type {\n",
       "        vertical-align: middle;\n",
       "    }\n",
       "\n",
       "    .dataframe tbody tr th {\n",
       "        vertical-align: top;\n",
       "    }\n",
       "\n",
       "    .dataframe thead th {\n",
       "        text-align: right;\n",
       "    }\n",
       "</style>\n",
       "<table border=\"1\" class=\"dataframe\">\n",
       "  <thead>\n",
       "    <tr style=\"text-align: right;\">\n",
       "      <th></th>\n",
       "      <th>Aluno Migrante</th>\n",
       "      <th>status</th>\n",
       "      <th>Total Por Categoria</th>\n",
       "      <th>Total Migrantes</th>\n",
       "      <th>Percentual M(%)</th>\n",
       "      <th>Range</th>\n",
       "      <th>Percentual(%)</th>\n",
       "    </tr>\n",
       "  </thead>\n",
       "  <tbody>\n",
       "    <tr>\n",
       "      <th>0</th>\n",
       "      <td>0</td>\n",
       "      <td>CANCELADO</td>\n",
       "      <td>25373</td>\n",
       "      <td>43022</td>\n",
       "      <td>58.976803</td>\n",
       "      <td>27542</td>\n",
       "      <td>92.124755</td>\n",
       "    </tr>\n",
       "    <tr>\n",
       "      <th>1</th>\n",
       "      <td>1</td>\n",
       "      <td>CANCELADO</td>\n",
       "      <td>2169</td>\n",
       "      <td>3138</td>\n",
       "      <td>69.120459</td>\n",
       "      <td>27542</td>\n",
       "      <td>7.875245</td>\n",
       "    </tr>\n",
       "    <tr>\n",
       "      <th>2</th>\n",
       "      <td>0</td>\n",
       "      <td>CONCLUÍDO</td>\n",
       "      <td>17649</td>\n",
       "      <td>43022</td>\n",
       "      <td>41.023197</td>\n",
       "      <td>18618</td>\n",
       "      <td>94.795359</td>\n",
       "    </tr>\n",
       "    <tr>\n",
       "      <th>3</th>\n",
       "      <td>1</td>\n",
       "      <td>CONCLUÍDO</td>\n",
       "      <td>969</td>\n",
       "      <td>3138</td>\n",
       "      <td>30.879541</td>\n",
       "      <td>18618</td>\n",
       "      <td>5.204641</td>\n",
       "    </tr>\n",
       "  </tbody>\n",
       "</table>\n",
       "</div>"
      ],
      "text/plain": [
       "   Aluno Migrante     status  Total Por Categoria  Total Migrantes  \\\n",
       "0               0  CANCELADO                25373            43022   \n",
       "1               1  CANCELADO                 2169             3138   \n",
       "2               0  CONCLUÍDO                17649            43022   \n",
       "3               1  CONCLUÍDO                  969             3138   \n",
       "\n",
       "   Percentual M(%)  Range  Percentual(%)  \n",
       "0        58.976803  27542      92.124755  \n",
       "1        69.120459  27542       7.875245  \n",
       "2        41.023197  18618      94.795359  \n",
       "3        30.879541  18618       5.204641  "
      ]
     },
     "execution_count": 52,
     "metadata": {},
     "output_type": "execute_result"
    }
   ],
   "source": [
    "df_group5['Percentual(%)'] = df_group5['Total Por Categoria'] / df_group5['Range'] * 100\n",
    "df_group5"
   ]
  },
  {
   "cell_type": "markdown",
   "id": "998ba7cd",
   "metadata": {},
   "source": [
    "- Renomenado as colunas "
   ]
  },
  {
   "cell_type": "code",
   "execution_count": 53,
   "id": "163b78e5",
   "metadata": {},
   "outputs": [
    {
     "data": {
      "text/html": [
       "<div>\n",
       "<style scoped>\n",
       "    .dataframe tbody tr th:only-of-type {\n",
       "        vertical-align: middle;\n",
       "    }\n",
       "\n",
       "    .dataframe tbody tr th {\n",
       "        vertical-align: top;\n",
       "    }\n",
       "\n",
       "    .dataframe thead th {\n",
       "        text-align: right;\n",
       "    }\n",
       "</style>\n",
       "<table border=\"1\" class=\"dataframe\">\n",
       "  <thead>\n",
       "    <tr style=\"text-align: right;\">\n",
       "      <th></th>\n",
       "      <th>Aluno Migrante</th>\n",
       "      <th>Status do Curso</th>\n",
       "      <th>Total Por Categoria</th>\n",
       "      <th>Total por Migrantes</th>\n",
       "      <th>Percentual M (%)</th>\n",
       "      <th>Total por Status</th>\n",
       "      <th>Percentual S (%)</th>\n",
       "    </tr>\n",
       "  </thead>\n",
       "  <tbody>\n",
       "    <tr>\n",
       "      <th>0</th>\n",
       "      <td>0</td>\n",
       "      <td>CANCELADO</td>\n",
       "      <td>25373</td>\n",
       "      <td>43022</td>\n",
       "      <td>58.976803</td>\n",
       "      <td>27542</td>\n",
       "      <td>92.124755</td>\n",
       "    </tr>\n",
       "    <tr>\n",
       "      <th>1</th>\n",
       "      <td>1</td>\n",
       "      <td>CANCELADO</td>\n",
       "      <td>2169</td>\n",
       "      <td>3138</td>\n",
       "      <td>69.120459</td>\n",
       "      <td>27542</td>\n",
       "      <td>7.875245</td>\n",
       "    </tr>\n",
       "    <tr>\n",
       "      <th>2</th>\n",
       "      <td>0</td>\n",
       "      <td>CONCLUÍDO</td>\n",
       "      <td>17649</td>\n",
       "      <td>43022</td>\n",
       "      <td>41.023197</td>\n",
       "      <td>18618</td>\n",
       "      <td>94.795359</td>\n",
       "    </tr>\n",
       "    <tr>\n",
       "      <th>3</th>\n",
       "      <td>1</td>\n",
       "      <td>CONCLUÍDO</td>\n",
       "      <td>969</td>\n",
       "      <td>3138</td>\n",
       "      <td>30.879541</td>\n",
       "      <td>18618</td>\n",
       "      <td>5.204641</td>\n",
       "    </tr>\n",
       "  </tbody>\n",
       "</table>\n",
       "</div>"
      ],
      "text/plain": [
       "   Aluno Migrante Status do Curso  Total Por Categoria  Total por Migrantes  \\\n",
       "0               0       CANCELADO                25373                43022   \n",
       "1               1       CANCELADO                 2169                 3138   \n",
       "2               0       CONCLUÍDO                17649                43022   \n",
       "3               1       CONCLUÍDO                  969                 3138   \n",
       "\n",
       "   Percentual M (%)  Total por Status  Percentual S (%)  \n",
       "0         58.976803             27542         92.124755  \n",
       "1         69.120459             27542          7.875245  \n",
       "2         41.023197             18618         94.795359  \n",
       "3         30.879541             18618          5.204641  "
      ]
     },
     "execution_count": 53,
     "metadata": {},
     "output_type": "execute_result"
    }
   ],
   "source": [
    "df_group5.columns = ['Aluno Migrante',\n",
    "'Status do Curso',\n",
    "'Total Por Categoria',\n",
    "'Total por Migrantes',\n",
    "'Percentual M (%)',\n",
    "'Total por Status',\n",
    "'Percentual S (%)']\n",
    "df_group5"
   ]
  },
  {
   "cell_type": "markdown",
   "id": "9b0e5570",
   "metadata": {},
   "source": [
    " - Para melhor interpretação vamos visualizar e interpretar essas informações num gráfico."
   ]
  },
  {
   "cell_type": "code",
   "execution_count": 54,
   "id": "f6117d35",
   "metadata": {
    "scrolled": true
   },
   "outputs": [
    {
     "data": {
      "image/png": "[encoded data removed]",
      "text/plain": [
       "<Figure size 1500x800 with 1 Axes>"
      ]
     },
     "metadata": {},
     "output_type": "display_data"
    }
   ],
   "source": [
    "# Gráfico 1 - Análise em Valores Percentual\n",
    "\n",
    "# Tamanho da figura\n",
    "plt.figure(figsize = (15,8))\n",
    "\n",
    "# Chart\n",
    "chart = sns.barplot(x = 'Status do Curso',\n",
    "                    y = 'Percentual M (%)',\n",
    "                    data = df_group5,\n",
    "                    hue = 'Aluno Migrante',\n",
    "                    palette = [\"red\",\"green\"])\n",
    "\n",
    "# Estilo e labels\n",
    "sns.set(font_scale = 1.5)\n",
    "sns.set_style('whitegrid')\n",
    "sns.set_palette('prism')\n",
    "chart.set_xlabel(\"\\nStatus\", fontsize = 14)\n",
    "chart.set_ylabel(\"Total\", fontsize = 14)\n",
    "\n",
    "# Legenda\n",
    "plt.legend(loc = 'upper right',\n",
    "           borderpad = 1.5,\n",
    "           labelspacing = 1.5,\n",
    "           fontsize = 12,\n",
    "           title = 'Alunos Migrantes:')\n",
    "\n",
    "# Adicionado Título\n",
    "chart.text(x = -0.5,\n",
    "           y = 79,\n",
    "           s = \"Status de Curso (Percentual)\",\n",
    "           fontsize = 25,\n",
    "           weight = 'bold',\n",
    "           alpha = .75)\n",
    "\n",
    "# Adicionado Sub-Título\n",
    "chart.text(x = -0.5,\n",
    "           y = 75,\n",
    "           s = 'Alunos Migrantes: O valor 0 para os Não migrantes e 1 Para os migrantes.',\n",
    "           fontsize = 16,\n",
    "           alpha = .85);"
   ]
  },
  {
   "cell_type": "markdown",
   "id": "8b70ff3b",
   "metadata": {},
   "source": [
    "**Observações**:\n",
    "\n",
    "1. Para o status de curso cancelado podemos ver que em termos proporcionais os alunos migrantes apresentam uma maior de taxa de cancelamento em comparação com os alunos Não Migrantes, sendo 62,12% e 58,97% respectivamente.\n",
    " \n",
    "\n",
    "2. Já para o status de curso concluído vemos que também existe diferença entre agora o grupo dos alunos não migrantes apresentam maior taxa de conclusão em comparação com o grupo dos alunos migrantes. Aproximadamente 41% para os alunos que possuem residência no estado da Paraíba e aproximadamente 31% para os migrantes."
   ]
  },
  {
   "cell_type": "code",
   "execution_count": 55,
   "id": "115e05b6",
   "metadata": {},
   "outputs": [
    {
     "data": {
      "image/png": "[encoded data removed]",
      "text/plain": [
       "<Figure size 1500x800 with 1 Axes>"
      ]
     },
     "metadata": {},
     "output_type": "display_data"
    }
   ],
   "source": [
    "# Gráfico 2 - Análise em Valores Percentual\n",
    "\n",
    "# Tamanho da figura\n",
    "plt.figure(figsize = (15,8))\n",
    "\n",
    "# Chart\n",
    "chart = sns.barplot(x = 'Status do Curso',\n",
    "                    y = 'Percentual S (%)',\n",
    "                    data = df_group5,\n",
    "                    hue = 'Aluno Migrante',\n",
    "                    palette = [\"red\",\"green\"])\n",
    "\n",
    "# Estilo e labels\n",
    "sns.set(font_scale = 1.5)\n",
    "sns.set_style('whitegrid')\n",
    "sns.set_palette('prism')\n",
    "chart.set_xlabel(\"\\nStatus\", fontsize = 14)\n",
    "chart.set_ylabel(\"Total\", fontsize = 14)\n",
    "\n",
    "# Legenda\n",
    "plt.legend(loc = 'upper right',\n",
    "           borderpad = 1.5,\n",
    "           labelspacing = 1.5,\n",
    "           fontsize = 12,\n",
    "           title = 'Alunos Migrantes:')\n",
    "\n",
    "# Adicionado Título\n",
    "chart.text(x = -0.5,\n",
    "           y = 108,\n",
    "           s = \"Percentual de alunos migrantes e não migrantes por status do curso\",\n",
    "           fontsize = 25,\n",
    "           weight = 'bold',\n",
    "           alpha = .75)\n",
    "\n",
    "# Adicionado Sub-Título\n",
    "chart.text(x = -0.5,\n",
    "           y = 102,\n",
    "           s = 'Alunos Migrantes: O valor 0 para os Não migrantes e 1 Para os migrantes.',\n",
    "           fontsize = 16,\n",
    "           alpha = .85);"
   ]
  },
  {
   "cell_type": "markdown",
   "id": "960edef1",
   "metadata": {},
   "source": [
    "**Observações**:\n",
    "\n",
    "1. Observando a proporção de status dos alunos migrantes e não migrantes, foi visto que os estudantes não migrantes tem maior proporção nos status de concluído e cancelado. Os não migrantes representam cerca de 92% dos estudantes com status de curso cancelado e aproximadamente 94% dos alunos com status de concluído.\n",
    "\n",
    "2. Fazendo uma análise para o grupo estudantes considerados migrantes a proporção em ambos os status é inferior ao grupo do não migrantes. Cerca de 7,87% dos alunos com status de curso cancelado são migrantes e 5,20% do estudantes com status de curso concluído são migrantes.\n",
    "\n",
    "É importante deixar claro que essa diferença pode ter como causa a diferença de observações disponíveis em cada grupo. Mais à frente talvez seja necessário a aplicação de alguma técnica de rebalanceamento  dessas categorias para que o modelo proposto não sofra viés de aprendizagem, e aprenda mais de uma categoria que outra."
   ]
  },
  {
   "cell_type": "markdown",
   "id": "d7bd50c2",
   "metadata": {},
   "source": [
    "- De forma semelhante a analise feita anteriomente irei fazer com a variável **ingresso_sisu**"
   ]
  },
  {
   "cell_type": "code",
   "execution_count": 56,
   "id": "1c5cfda8",
   "metadata": {},
   "outputs": [
    {
     "data": {
      "text/html": [
       "<div>\n",
       "<style scoped>\n",
       "    .dataframe tbody tr th:only-of-type {\n",
       "        vertical-align: middle;\n",
       "    }\n",
       "\n",
       "    .dataframe tbody tr th {\n",
       "        vertical-align: top;\n",
       "    }\n",
       "\n",
       "    .dataframe thead th {\n",
       "        text-align: right;\n",
       "    }\n",
       "</style>\n",
       "<table border=\"1\" class=\"dataframe\">\n",
       "  <thead>\n",
       "    <tr style=\"text-align: right;\">\n",
       "      <th></th>\n",
       "      <th>aluno_migrante</th>\n",
       "      <th>ingresso_sisu</th>\n",
       "      <th>Range</th>\n",
       "    </tr>\n",
       "  </thead>\n",
       "  <tbody>\n",
       "    <tr>\n",
       "      <th>0</th>\n",
       "      <td>0</td>\n",
       "      <td>0</td>\n",
       "      <td>27932</td>\n",
       "    </tr>\n",
       "    <tr>\n",
       "      <th>1</th>\n",
       "      <td>0</td>\n",
       "      <td>1</td>\n",
       "      <td>15090</td>\n",
       "    </tr>\n",
       "    <tr>\n",
       "      <th>2</th>\n",
       "      <td>1</td>\n",
       "      <td>0</td>\n",
       "      <td>898</td>\n",
       "    </tr>\n",
       "    <tr>\n",
       "      <th>3</th>\n",
       "      <td>1</td>\n",
       "      <td>1</td>\n",
       "      <td>2240</td>\n",
       "    </tr>\n",
       "  </tbody>\n",
       "</table>\n",
       "</div>"
      ],
      "text/plain": [
       "   aluno_migrante  ingresso_sisu  Range\n",
       "0               0              0  27932\n",
       "1               0              1  15090\n",
       "2               1              0    898\n",
       "3               1              1   2240"
      ]
     },
     "execution_count": 56,
     "metadata": {},
     "output_type": "execute_result"
    }
   ],
   "source": [
    "df_group6 = df1.groupby(['aluno_migrante', 'ingresso_sisu']).agg({'Range' :'nunique'}).reset_index()\n",
    "df_group6"
   ]
  },
  {
   "cell_type": "code",
   "execution_count": 57,
   "id": "ebf9e6c0",
   "metadata": {},
   "outputs": [
    {
     "data": {
      "text/html": [
       "<div>\n",
       "<style scoped>\n",
       "    .dataframe tbody tr th:only-of-type {\n",
       "        vertical-align: middle;\n",
       "    }\n",
       "\n",
       "    .dataframe tbody tr th {\n",
       "        vertical-align: top;\n",
       "    }\n",
       "\n",
       "    .dataframe thead th {\n",
       "        text-align: right;\n",
       "    }\n",
       "</style>\n",
       "<table border=\"1\" class=\"dataframe\">\n",
       "  <thead>\n",
       "    <tr style=\"text-align: right;\">\n",
       "      <th></th>\n",
       "      <th>aluno_migrante</th>\n",
       "      <th>Range</th>\n",
       "    </tr>\n",
       "  </thead>\n",
       "  <tbody>\n",
       "    <tr>\n",
       "      <th>0</th>\n",
       "      <td>0</td>\n",
       "      <td>43022</td>\n",
       "    </tr>\n",
       "    <tr>\n",
       "      <th>1</th>\n",
       "      <td>1</td>\n",
       "      <td>3138</td>\n",
       "    </tr>\n",
       "  </tbody>\n",
       "</table>\n",
       "</div>"
      ],
      "text/plain": [
       "   aluno_migrante  Range\n",
       "0               0  43022\n",
       "1               1   3138"
      ]
     },
     "execution_count": 57,
     "metadata": {},
     "output_type": "execute_result"
    }
   ],
   "source": [
    "df_group7 = df1.groupby('aluno_migrante').agg({'Range' : 'nunique'}).reset_index()\n",
    "df_group7"
   ]
  },
  {
   "cell_type": "code",
   "execution_count": 58,
   "id": "d02da14d",
   "metadata": {
    "scrolled": true
   },
   "outputs": [
    {
     "data": {
      "text/html": [
       "<div>\n",
       "<style scoped>\n",
       "    .dataframe tbody tr th:only-of-type {\n",
       "        vertical-align: middle;\n",
       "    }\n",
       "\n",
       "    .dataframe tbody tr th {\n",
       "        vertical-align: top;\n",
       "    }\n",
       "\n",
       "    .dataframe thead th {\n",
       "        text-align: right;\n",
       "    }\n",
       "</style>\n",
       "<table border=\"1\" class=\"dataframe\">\n",
       "  <thead>\n",
       "    <tr style=\"text-align: right;\">\n",
       "      <th></th>\n",
       "      <th>aluno_migrante</th>\n",
       "      <th>ingresso_sisu</th>\n",
       "      <th>Range_x</th>\n",
       "      <th>Range_y</th>\n",
       "    </tr>\n",
       "  </thead>\n",
       "  <tbody>\n",
       "    <tr>\n",
       "      <th>0</th>\n",
       "      <td>0</td>\n",
       "      <td>0</td>\n",
       "      <td>27932</td>\n",
       "      <td>43022</td>\n",
       "    </tr>\n",
       "    <tr>\n",
       "      <th>1</th>\n",
       "      <td>0</td>\n",
       "      <td>1</td>\n",
       "      <td>15090</td>\n",
       "      <td>43022</td>\n",
       "    </tr>\n",
       "    <tr>\n",
       "      <th>2</th>\n",
       "      <td>1</td>\n",
       "      <td>0</td>\n",
       "      <td>898</td>\n",
       "      <td>3138</td>\n",
       "    </tr>\n",
       "    <tr>\n",
       "      <th>3</th>\n",
       "      <td>1</td>\n",
       "      <td>1</td>\n",
       "      <td>2240</td>\n",
       "      <td>3138</td>\n",
       "    </tr>\n",
       "  </tbody>\n",
       "</table>\n",
       "</div>"
      ],
      "text/plain": [
       "   aluno_migrante  ingresso_sisu  Range_x  Range_y\n",
       "0               0              0    27932    43022\n",
       "1               0              1    15090    43022\n",
       "2               1              0      898     3138\n",
       "3               1              1     2240     3138"
      ]
     },
     "execution_count": 58,
     "metadata": {},
     "output_type": "execute_result"
    }
   ],
   "source": [
    "df_group7 = df_group6.merge(df_group7, on = 'aluno_migrante')\n",
    "df_group7"
   ]
  },
  {
   "cell_type": "code",
   "execution_count": 59,
   "id": "46ed10c5",
   "metadata": {},
   "outputs": [
    {
     "data": {
      "text/html": [
       "<div>\n",
       "<style scoped>\n",
       "    .dataframe tbody tr th:only-of-type {\n",
       "        vertical-align: middle;\n",
       "    }\n",
       "\n",
       "    .dataframe tbody tr th {\n",
       "        vertical-align: top;\n",
       "    }\n",
       "\n",
       "    .dataframe thead th {\n",
       "        text-align: right;\n",
       "    }\n",
       "</style>\n",
       "<table border=\"1\" class=\"dataframe\">\n",
       "  <thead>\n",
       "    <tr style=\"text-align: right;\">\n",
       "      <th></th>\n",
       "      <th>aluno_migrante</th>\n",
       "      <th>ingresso_sisu</th>\n",
       "      <th>Range_x</th>\n",
       "      <th>Range_y</th>\n",
       "      <th>Percentual M (%)</th>\n",
       "    </tr>\n",
       "  </thead>\n",
       "  <tbody>\n",
       "    <tr>\n",
       "      <th>0</th>\n",
       "      <td>0</td>\n",
       "      <td>0</td>\n",
       "      <td>27932</td>\n",
       "      <td>43022</td>\n",
       "      <td>64.924922</td>\n",
       "    </tr>\n",
       "    <tr>\n",
       "      <th>1</th>\n",
       "      <td>0</td>\n",
       "      <td>1</td>\n",
       "      <td>15090</td>\n",
       "      <td>43022</td>\n",
       "      <td>35.075078</td>\n",
       "    </tr>\n",
       "    <tr>\n",
       "      <th>2</th>\n",
       "      <td>1</td>\n",
       "      <td>0</td>\n",
       "      <td>898</td>\n",
       "      <td>3138</td>\n",
       "      <td>28.616953</td>\n",
       "    </tr>\n",
       "    <tr>\n",
       "      <th>3</th>\n",
       "      <td>1</td>\n",
       "      <td>1</td>\n",
       "      <td>2240</td>\n",
       "      <td>3138</td>\n",
       "      <td>71.383047</td>\n",
       "    </tr>\n",
       "  </tbody>\n",
       "</table>\n",
       "</div>"
      ],
      "text/plain": [
       "   aluno_migrante  ingresso_sisu  Range_x  Range_y  Percentual M (%)\n",
       "0               0              0    27932    43022         64.924922\n",
       "1               0              1    15090    43022         35.075078\n",
       "2               1              0      898     3138         28.616953\n",
       "3               1              1     2240     3138         71.383047"
      ]
     },
     "execution_count": 59,
     "metadata": {},
     "output_type": "execute_result"
    }
   ],
   "source": [
    "df_group7['Percentual M (%)'] = df_group7['Range_x'] / df_group7['Range_y'] * 100\n",
    "df_group7"
   ]
  },
  {
   "cell_type": "code",
   "execution_count": 60,
   "id": "3656bdf8",
   "metadata": {
    "scrolled": true
   },
   "outputs": [
    {
     "data": {
      "text/html": [
       "<div>\n",
       "<style scoped>\n",
       "    .dataframe tbody tr th:only-of-type {\n",
       "        vertical-align: middle;\n",
       "    }\n",
       "\n",
       "    .dataframe tbody tr th {\n",
       "        vertical-align: top;\n",
       "    }\n",
       "\n",
       "    .dataframe thead th {\n",
       "        text-align: right;\n",
       "    }\n",
       "</style>\n",
       "<table border=\"1\" class=\"dataframe\">\n",
       "  <thead>\n",
       "    <tr style=\"text-align: right;\">\n",
       "      <th></th>\n",
       "      <th>ingresso_sisu</th>\n",
       "      <th>Range</th>\n",
       "    </tr>\n",
       "  </thead>\n",
       "  <tbody>\n",
       "    <tr>\n",
       "      <th>0</th>\n",
       "      <td>0</td>\n",
       "      <td>28830</td>\n",
       "    </tr>\n",
       "    <tr>\n",
       "      <th>1</th>\n",
       "      <td>1</td>\n",
       "      <td>17330</td>\n",
       "    </tr>\n",
       "  </tbody>\n",
       "</table>\n",
       "</div>"
      ],
      "text/plain": [
       "   ingresso_sisu  Range\n",
       "0              0  28830\n",
       "1              1  17330"
      ]
     },
     "execution_count": 60,
     "metadata": {},
     "output_type": "execute_result"
    }
   ],
   "source": [
    "df_group8 = df1.groupby('ingresso_sisu').agg({'Range' : 'nunique'}).reset_index()\n",
    "df_group8"
   ]
  },
  {
   "cell_type": "code",
   "execution_count": 61,
   "id": "3d8e00da",
   "metadata": {},
   "outputs": [
    {
     "data": {
      "text/html": [
       "<div>\n",
       "<style scoped>\n",
       "    .dataframe tbody tr th:only-of-type {\n",
       "        vertical-align: middle;\n",
       "    }\n",
       "\n",
       "    .dataframe tbody tr th {\n",
       "        vertical-align: top;\n",
       "    }\n",
       "\n",
       "    .dataframe thead th {\n",
       "        text-align: right;\n",
       "    }\n",
       "</style>\n",
       "<table border=\"1\" class=\"dataframe\">\n",
       "  <thead>\n",
       "    <tr style=\"text-align: right;\">\n",
       "      <th></th>\n",
       "      <th>aluno_migrante</th>\n",
       "      <th>ingresso_sisu</th>\n",
       "      <th>Range_x</th>\n",
       "      <th>Range_y</th>\n",
       "      <th>Percentual M (%)</th>\n",
       "      <th>Range</th>\n",
       "    </tr>\n",
       "  </thead>\n",
       "  <tbody>\n",
       "    <tr>\n",
       "      <th>0</th>\n",
       "      <td>0</td>\n",
       "      <td>0</td>\n",
       "      <td>27932</td>\n",
       "      <td>43022</td>\n",
       "      <td>64.924922</td>\n",
       "      <td>28830</td>\n",
       "    </tr>\n",
       "    <tr>\n",
       "      <th>1</th>\n",
       "      <td>1</td>\n",
       "      <td>0</td>\n",
       "      <td>898</td>\n",
       "      <td>3138</td>\n",
       "      <td>28.616953</td>\n",
       "      <td>28830</td>\n",
       "    </tr>\n",
       "    <tr>\n",
       "      <th>2</th>\n",
       "      <td>0</td>\n",
       "      <td>1</td>\n",
       "      <td>15090</td>\n",
       "      <td>43022</td>\n",
       "      <td>35.075078</td>\n",
       "      <td>17330</td>\n",
       "    </tr>\n",
       "    <tr>\n",
       "      <th>3</th>\n",
       "      <td>1</td>\n",
       "      <td>1</td>\n",
       "      <td>2240</td>\n",
       "      <td>3138</td>\n",
       "      <td>71.383047</td>\n",
       "      <td>17330</td>\n",
       "    </tr>\n",
       "  </tbody>\n",
       "</table>\n",
       "</div>"
      ],
      "text/plain": [
       "   aluno_migrante  ingresso_sisu  Range_x  Range_y  Percentual M (%)  Range\n",
       "0               0              0    27932    43022         64.924922  28830\n",
       "1               1              0      898     3138         28.616953  28830\n",
       "2               0              1    15090    43022         35.075078  17330\n",
       "3               1              1     2240     3138         71.383047  17330"
      ]
     },
     "execution_count": 61,
     "metadata": {},
     "output_type": "execute_result"
    }
   ],
   "source": [
    "df_group9 = df_group7.merge(df_group8, on = 'ingresso_sisu')\n",
    "df_group9"
   ]
  },
  {
   "cell_type": "code",
   "execution_count": 62,
   "id": "f22569a8",
   "metadata": {
    "scrolled": true
   },
   "outputs": [
    {
     "data": {
      "text/html": [
       "<div>\n",
       "<style scoped>\n",
       "    .dataframe tbody tr th:only-of-type {\n",
       "        vertical-align: middle;\n",
       "    }\n",
       "\n",
       "    .dataframe tbody tr th {\n",
       "        vertical-align: top;\n",
       "    }\n",
       "\n",
       "    .dataframe thead th {\n",
       "        text-align: right;\n",
       "    }\n",
       "</style>\n",
       "<table border=\"1\" class=\"dataframe\">\n",
       "  <thead>\n",
       "    <tr style=\"text-align: right;\">\n",
       "      <th></th>\n",
       "      <th>aluno_migrante</th>\n",
       "      <th>ingresso_sisu</th>\n",
       "      <th>Range_x</th>\n",
       "      <th>Range_y</th>\n",
       "      <th>Percentual M (%)</th>\n",
       "      <th>Range</th>\n",
       "      <th>Percentual Sisu (%)</th>\n",
       "    </tr>\n",
       "  </thead>\n",
       "  <tbody>\n",
       "    <tr>\n",
       "      <th>0</th>\n",
       "      <td>0</td>\n",
       "      <td>0</td>\n",
       "      <td>27932</td>\n",
       "      <td>43022</td>\n",
       "      <td>64.924922</td>\n",
       "      <td>28830</td>\n",
       "      <td>96.885189</td>\n",
       "    </tr>\n",
       "    <tr>\n",
       "      <th>1</th>\n",
       "      <td>1</td>\n",
       "      <td>0</td>\n",
       "      <td>898</td>\n",
       "      <td>3138</td>\n",
       "      <td>28.616953</td>\n",
       "      <td>28830</td>\n",
       "      <td>3.114811</td>\n",
       "    </tr>\n",
       "    <tr>\n",
       "      <th>2</th>\n",
       "      <td>0</td>\n",
       "      <td>1</td>\n",
       "      <td>15090</td>\n",
       "      <td>43022</td>\n",
       "      <td>35.075078</td>\n",
       "      <td>17330</td>\n",
       "      <td>87.074437</td>\n",
       "    </tr>\n",
       "    <tr>\n",
       "      <th>3</th>\n",
       "      <td>1</td>\n",
       "      <td>1</td>\n",
       "      <td>2240</td>\n",
       "      <td>3138</td>\n",
       "      <td>71.383047</td>\n",
       "      <td>17330</td>\n",
       "      <td>12.925563</td>\n",
       "    </tr>\n",
       "  </tbody>\n",
       "</table>\n",
       "</div>"
      ],
      "text/plain": [
       "   aluno_migrante  ingresso_sisu  Range_x  Range_y  Percentual M (%)  Range  \\\n",
       "0               0              0    27932    43022         64.924922  28830   \n",
       "1               1              0      898     3138         28.616953  28830   \n",
       "2               0              1    15090    43022         35.075078  17330   \n",
       "3               1              1     2240     3138         71.383047  17330   \n",
       "\n",
       "   Percentual Sisu (%)  \n",
       "0            96.885189  \n",
       "1             3.114811  \n",
       "2            87.074437  \n",
       "3            12.925563  "
      ]
     },
     "execution_count": 62,
     "metadata": {},
     "output_type": "execute_result"
    }
   ],
   "source": [
    "df_group9['Percentual Sisu (%)'] = df_group9['Range_x'] / df_group9['Range'] * 100\n",
    "df_group9"
   ]
  },
  {
   "cell_type": "code",
   "execution_count": 63,
   "id": "be7576e5",
   "metadata": {},
   "outputs": [
    {
     "data": {
      "text/html": [
       "<div>\n",
       "<style scoped>\n",
       "    .dataframe tbody tr th:only-of-type {\n",
       "        vertical-align: middle;\n",
       "    }\n",
       "\n",
       "    .dataframe tbody tr th {\n",
       "        vertical-align: top;\n",
       "    }\n",
       "\n",
       "    .dataframe thead th {\n",
       "        text-align: right;\n",
       "    }\n",
       "</style>\n",
       "<table border=\"1\" class=\"dataframe\">\n",
       "  <thead>\n",
       "    <tr style=\"text-align: right;\">\n",
       "      <th></th>\n",
       "      <th>Aluno Migrante</th>\n",
       "      <th>Forma de Ingresso (sisu)</th>\n",
       "      <th>Total Por Categória</th>\n",
       "      <th>Total por Migrantes</th>\n",
       "      <th>Percentual M (%)</th>\n",
       "      <th>Total por Forma de Ingresso</th>\n",
       "      <th>Percentual (sisu) (%)</th>\n",
       "    </tr>\n",
       "  </thead>\n",
       "  <tbody>\n",
       "    <tr>\n",
       "      <th>0</th>\n",
       "      <td>0</td>\n",
       "      <td>0</td>\n",
       "      <td>27932</td>\n",
       "      <td>43022</td>\n",
       "      <td>64.924922</td>\n",
       "      <td>28830</td>\n",
       "      <td>96.885189</td>\n",
       "    </tr>\n",
       "    <tr>\n",
       "      <th>1</th>\n",
       "      <td>1</td>\n",
       "      <td>0</td>\n",
       "      <td>898</td>\n",
       "      <td>3138</td>\n",
       "      <td>28.616953</td>\n",
       "      <td>28830</td>\n",
       "      <td>3.114811</td>\n",
       "    </tr>\n",
       "    <tr>\n",
       "      <th>2</th>\n",
       "      <td>0</td>\n",
       "      <td>1</td>\n",
       "      <td>15090</td>\n",
       "      <td>43022</td>\n",
       "      <td>35.075078</td>\n",
       "      <td>17330</td>\n",
       "      <td>87.074437</td>\n",
       "    </tr>\n",
       "    <tr>\n",
       "      <th>3</th>\n",
       "      <td>1</td>\n",
       "      <td>1</td>\n",
       "      <td>2240</td>\n",
       "      <td>3138</td>\n",
       "      <td>71.383047</td>\n",
       "      <td>17330</td>\n",
       "      <td>12.925563</td>\n",
       "    </tr>\n",
       "  </tbody>\n",
       "</table>\n",
       "</div>"
      ],
      "text/plain": [
       "   Aluno Migrante  Forma de Ingresso (sisu)  Total Por Categória  \\\n",
       "0               0                         0                27932   \n",
       "1               1                         0                  898   \n",
       "2               0                         1                15090   \n",
       "3               1                         1                 2240   \n",
       "\n",
       "   Total por Migrantes  Percentual M (%)  Total por Forma de Ingresso  \\\n",
       "0                43022         64.924922                        28830   \n",
       "1                 3138         28.616953                        28830   \n",
       "2                43022         35.075078                        17330   \n",
       "3                 3138         71.383047                        17330   \n",
       "\n",
       "   Percentual (sisu) (%)  \n",
       "0              96.885189  \n",
       "1               3.114811  \n",
       "2              87.074437  \n",
       "3              12.925563  "
      ]
     },
     "execution_count": 63,
     "metadata": {},
     "output_type": "execute_result"
    }
   ],
   "source": [
    "df_group9.columns = ['Aluno Migrante',\n",
    "'Forma de Ingresso (sisu)',\n",
    "'Total Por Categória',\n",
    "'Total por Migrantes',\n",
    "'Percentual M (%)',\n",
    "'Total por Forma de Ingresso',\n",
    "'Percentual (sisu) (%)']\n",
    "df_group9"
   ]
  },
  {
   "cell_type": "markdown",
   "id": "ce2e72ae",
   "metadata": {},
   "source": [
    "* Vamos analisar as informações da tabela **df_group9** em gráficos."
   ]
  },
  {
   "cell_type": "code",
   "execution_count": 64,
   "id": "428b76bf",
   "metadata": {},
   "outputs": [
    {
     "data": {
      "image/png": "[encoded data removed]",
      "text/plain": [
       "<Figure size 2000x1500 with 1 Axes>"
      ]
     },
     "metadata": {},
     "output_type": "display_data"
    }
   ],
   "source": [
    "# Gráfico 3 - Análise em Valores Percentual\n",
    "\n",
    "# Tamanho da figura\n",
    "plt.figure(figsize = (20,15))\n",
    "\n",
    "# Chart\n",
    "chart = sns.barplot(x = 'Forma de Ingresso (sisu)',\n",
    "                    y = 'Percentual M (%)',\n",
    "                    data = df_group9,\n",
    "                    hue = 'Aluno Migrante',\n",
    "                    palette = [\"red\",\"green\"])\n",
    "\n",
    "# Estilo e labels\n",
    "sns.set(font_scale = 1.5)\n",
    "sns.set_style('whitegrid')\n",
    "sns.set_palette('prism')\n",
    "chart.set_xlabel(\"\\nStatus\", fontsize = 25)\n",
    "chart.set_ylabel(\"Total\", fontsize = 25)\n",
    "\n",
    "# Legenda\n",
    "plt.legend(loc = 'upper right',\n",
    "           borderpad = 0.5,\n",
    "           labelspacing = 1.5,\n",
    "           fontsize = 15,\n",
    "           title = 'Alunos Migrantes:')\n",
    "\n",
    "# Adicionado Título\n",
    "chart.text(x = -0.5,\n",
    "           y = 79,\n",
    "           s = \"Forma de ingresso na UFPB por categoria de aluno\",\n",
    "           fontsize = 30,\n",
    "           weight = 'bold',\n",
    "           alpha = .75)\n",
    "\n",
    "# Adicionado Sub-Título\n",
    "chart.text(x = -0.5,\n",
    "           y = 76,\n",
    "           s = 'Alunos Migrantes: O valor 0 para os Não migrantes e 1 Para os migrantes.',\n",
    "           fontsize = 20,\n",
    "           alpha = .85);"
   ]
  },
  {
   "cell_type": "markdown",
   "id": "6bac4983",
   "metadata": {},
   "source": [
    "Observações:\n",
    "- Foi atribuído o valor *1* para os estudantes que ingressaram na UFPB por meio de Sisu e *0* por outros meios de ingresso.\n",
    "\n",
    "\n",
    "1. Ao observar o gráfico é visto que existe uma diferença entre os grupos de estudantes migrantes e não migrante com a forma de ingresso a UFPB.\n",
    "\n",
    "\n",
    "2. Os estudantes não migrantes da Universidade Federal da Paraíba em sua maior parte utilizaram meios de ingresso diferente do Sisu para ingressar na instituição. Aproximadamente 65% utilizaram outros meios de acesso e cerca de 35% ingressaram por meio de Sisu.\n",
    "\n",
    "\n",
    "3. Já o grupo dos estudantes migrantes apresentaram como principal meio de acesso o Sisu, sendo 71.38%. E 28.61% utilizaram outros meios de acesso.\n",
    "\n",
    "**Conclusão** - Feita essa comparação de forma proporcional, foi possível detectar uma diferença no principal meio de acesso para o grupo dos estudantes migrantes e não migrantes. O primeiro grupo tem o Sisu como seu principal meio de acesso e os não migrantes utilizam outros meios de ingresso a UFPB."
   ]
  },
  {
   "cell_type": "markdown",
   "id": "dd2ad736",
   "metadata": {},
   "source": [
    "### Dividindo Dados em Treino e Teste"
   ]
  },
  {
   "cell_type": "code",
   "execution_count": 70,
   "id": "fb2bd39d",
   "metadata": {},
   "outputs": [],
   "source": [
    "# Criando obejeto com a variável target\n",
    "y = df1['aluno_migrante']"
   ]
  },
  {
   "cell_type": "code",
   "execution_count": 71,
   "id": "226996d9",
   "metadata": {},
   "outputs": [],
   "source": [
    "x = df1.drop('aluno_migrante', axis = 1)"
   ]
  },
  {
   "cell_type": "markdown",
   "id": "bb248f42",
   "metadata": {},
   "source": [
    "## Pré-Processamento"
   ]
  },
  {
   "cell_type": "code",
   "execution_count": 78,
   "id": "f9729758",
   "metadata": {},
   "outputs": [],
   "source": [
    "x_treino, x_teste, y_treino, y_teste = train_test_split(x,\n",
    "                                                        y,\n",
    "                                                        test_size =0.30,\n",
    "                                                        random_state = 123,\n",
    "                                                        stratify = df1.aluno_migrante)"
   ]
  },
  {
   "cell_type": "code",
   "execution_count": 79,
   "id": "49294086",
   "metadata": {},
   "outputs": [
    {
     "name": "stdout",
     "output_type": "stream",
     "text": [
      "(32312, 23) (13848, 23) (32312,) (13848,)\n"
     ]
    }
   ],
   "source": [
    "# Print do shape\n",
    "print(x_treino.shape, x_teste.shape, y_treino.shape, y_teste.shape)"
   ]
  },
  {
   "cell_type": "markdown",
   "id": "ba9685fc",
   "metadata": {
    "tags": []
   },
   "source": [
    "### Label Encoding"
   ]
  },
  {
   "cell_type": "code",
   "execution_count": 74,
   "id": "c82a4cf7-8ef5-4d68-bcfd-9a966aaf5c1a",
   "metadata": {},
   "outputs": [
    {
     "data": {
      "text/plain": [
       "Index(['campus', 'codigo_inep', 'curso_nome', 'turno', 'ano_ingresso',\n",
       "       'periodo_ingresso', 'forma_ingresso', 'status', 'id_discente',\n",
       "       'ano_referencia', 'periodo_referencia', 'forma_evasão', 'cra', 'cota',\n",
       "       'etnia', 'sexo', 'data_nascimento', 'uf_naturalidade', 'mun_residencia',\n",
       "       'uf_residencia', 'estado_civil', 'ingresso_sisu', 'aluno_migrante',\n",
       "       'Range'],\n",
       "      dtype='object')"
      ]
     },
     "execution_count": 74,
     "metadata": {},
     "output_type": "execute_result"
    }
   ],
   "source": [
    "df1.columns"
   ]
  },
  {
   "cell_type": "code",
   "execution_count": 80,
   "id": "4f797d06-c1ea-45f4-af06-73f365415a55",
   "metadata": {},
   "outputs": [],
   "source": [
    "var2 = ['campus','codigo_inep','curso_nome','turno','periodo_ingresso','forma_ingresso','status','id_discente',\n",
    "       'periodo_referencia','forma_evasão','cota','etnia','sexo','uf_naturalidade','mun_residencia','uf_residencia',\n",
    "       'estado_civil']"
   ]
  },
  {
   "cell_type": "code",
   "execution_count": 81,
   "id": "8102356c-3528-4688-9953-cacae10001d8",
   "metadata": {},
   "outputs": [],
   "source": [
    "# Aplicando o LabelEncoder em cada coluna\n",
    "encoders = {}\n",
    "for coluna in var2:\n",
    "    encoder = LabelEncoder()\n",
    "    x_treino[coluna] = encoder.fit_transform(x_treino[coluna])\n",
    "    encoders[coluna] = encoder"
   ]
  },
  {
   "cell_type": "code",
   "execution_count": 83,
   "id": "48de20a5",
   "metadata": {},
   "outputs": [
    {
     "data": {
      "text/html": [
       "<div>\n",
       "<style scoped>\n",
       "    .dataframe tbody tr th:only-of-type {\n",
       "        vertical-align: middle;\n",
       "    }\n",
       "\n",
       "    .dataframe tbody tr th {\n",
       "        vertical-align: top;\n",
       "    }\n",
       "\n",
       "    .dataframe thead th {\n",
       "        text-align: right;\n",
       "    }\n",
       "</style>\n",
       "<table border=\"1\" class=\"dataframe\">\n",
       "  <thead>\n",
       "    <tr style=\"text-align: right;\">\n",
       "      <th></th>\n",
       "      <th>campus</th>\n",
       "      <th>codigo_inep</th>\n",
       "      <th>curso_nome</th>\n",
       "      <th>turno</th>\n",
       "      <th>ano_ingresso</th>\n",
       "      <th>periodo_ingresso</th>\n",
       "      <th>forma_ingresso</th>\n",
       "      <th>status</th>\n",
       "      <th>id_discente</th>\n",
       "      <th>ano_referencia</th>\n",
       "      <th>...</th>\n",
       "      <th>cota</th>\n",
       "      <th>etnia</th>\n",
       "      <th>sexo</th>\n",
       "      <th>data_nascimento</th>\n",
       "      <th>uf_naturalidade</th>\n",
       "      <th>mun_residencia</th>\n",
       "      <th>uf_residencia</th>\n",
       "      <th>estado_civil</th>\n",
       "      <th>ingresso_sisu</th>\n",
       "      <th>Range</th>\n",
       "    </tr>\n",
       "  </thead>\n",
       "  <tbody>\n",
       "    <tr>\n",
       "      <th>54803</th>\n",
       "      <td>2</td>\n",
       "      <td>3</td>\n",
       "      <td>16</td>\n",
       "      <td>1</td>\n",
       "      <td>2014</td>\n",
       "      <td>0</td>\n",
       "      <td>6</td>\n",
       "      <td>0</td>\n",
       "      <td>22798</td>\n",
       "      <td>2014</td>\n",
       "      <td>...</td>\n",
       "      <td>0</td>\n",
       "      <td>4</td>\n",
       "      <td>1</td>\n",
       "      <td>1995-05-12 00:00:00</td>\n",
       "      <td>16</td>\n",
       "      <td>215</td>\n",
       "      <td>15</td>\n",
       "      <td>7</td>\n",
       "      <td>1</td>\n",
       "      <td>35765</td>\n",
       "    </tr>\n",
       "    <tr>\n",
       "      <th>20489</th>\n",
       "      <td>2</td>\n",
       "      <td>91</td>\n",
       "      <td>24</td>\n",
       "      <td>1</td>\n",
       "      <td>2010</td>\n",
       "      <td>0</td>\n",
       "      <td>27</td>\n",
       "      <td>1</td>\n",
       "      <td>2090</td>\n",
       "      <td>2015</td>\n",
       "      <td>...</td>\n",
       "      <td>0</td>\n",
       "      <td>1</td>\n",
       "      <td>1</td>\n",
       "      <td>1993-01-30 00:00:00</td>\n",
       "      <td>18</td>\n",
       "      <td>215</td>\n",
       "      <td>15</td>\n",
       "      <td>7</td>\n",
       "      <td>0</td>\n",
       "      <td>1461</td>\n",
       "    </tr>\n",
       "    <tr>\n",
       "      <th>58249</th>\n",
       "      <td>2</td>\n",
       "      <td>0</td>\n",
       "      <td>18</td>\n",
       "      <td>1</td>\n",
       "      <td>2014</td>\n",
       "      <td>1</td>\n",
       "      <td>6</td>\n",
       "      <td>0</td>\n",
       "      <td>27335</td>\n",
       "      <td>2015</td>\n",
       "      <td>...</td>\n",
       "      <td>0</td>\n",
       "      <td>4</td>\n",
       "      <td>0</td>\n",
       "      <td>1995-06-27 00:00:00</td>\n",
       "      <td>16</td>\n",
       "      <td>215</td>\n",
       "      <td>15</td>\n",
       "      <td>7</td>\n",
       "      <td>1</td>\n",
       "      <td>39211</td>\n",
       "    </tr>\n",
       "    <tr>\n",
       "      <th>35848</th>\n",
       "      <td>0</td>\n",
       "      <td>9</td>\n",
       "      <td>90</td>\n",
       "      <td>1</td>\n",
       "      <td>2012</td>\n",
       "      <td>0</td>\n",
       "      <td>21</td>\n",
       "      <td>1</td>\n",
       "      <td>11113</td>\n",
       "      <td>2015</td>\n",
       "      <td>...</td>\n",
       "      <td>0</td>\n",
       "      <td>5</td>\n",
       "      <td>1</td>\n",
       "      <td>1993-02-26 00:00:00</td>\n",
       "      <td>16</td>\n",
       "      <td>320</td>\n",
       "      <td>15</td>\n",
       "      <td>7</td>\n",
       "      <td>0</td>\n",
       "      <td>16814</td>\n",
       "    </tr>\n",
       "    <tr>\n",
       "      <th>34272</th>\n",
       "      <td>2</td>\n",
       "      <td>22</td>\n",
       "      <td>67</td>\n",
       "      <td>1</td>\n",
       "      <td>2011</td>\n",
       "      <td>1</td>\n",
       "      <td>27</td>\n",
       "      <td>1</td>\n",
       "      <td>6716</td>\n",
       "      <td>2016</td>\n",
       "      <td>...</td>\n",
       "      <td>0</td>\n",
       "      <td>5</td>\n",
       "      <td>0</td>\n",
       "      <td>1991-12-02 00:00:00</td>\n",
       "      <td>16</td>\n",
       "      <td>57</td>\n",
       "      <td>15</td>\n",
       "      <td>7</td>\n",
       "      <td>0</td>\n",
       "      <td>15239</td>\n",
       "    </tr>\n",
       "    <tr>\n",
       "      <th>...</th>\n",
       "      <td>...</td>\n",
       "      <td>...</td>\n",
       "      <td>...</td>\n",
       "      <td>...</td>\n",
       "      <td>...</td>\n",
       "      <td>...</td>\n",
       "      <td>...</td>\n",
       "      <td>...</td>\n",
       "      <td>...</td>\n",
       "      <td>...</td>\n",
       "      <td>...</td>\n",
       "      <td>...</td>\n",
       "      <td>...</td>\n",
       "      <td>...</td>\n",
       "      <td>...</td>\n",
       "      <td>...</td>\n",
       "      <td>...</td>\n",
       "      <td>...</td>\n",
       "      <td>...</td>\n",
       "      <td>...</td>\n",
       "      <td>...</td>\n",
       "    </tr>\n",
       "    <tr>\n",
       "      <th>44277</th>\n",
       "      <td>2</td>\n",
       "      <td>3</td>\n",
       "      <td>16</td>\n",
       "      <td>2</td>\n",
       "      <td>2013</td>\n",
       "      <td>1</td>\n",
       "      <td>27</td>\n",
       "      <td>0</td>\n",
       "      <td>18668</td>\n",
       "      <td>2016</td>\n",
       "      <td>...</td>\n",
       "      <td>0</td>\n",
       "      <td>5</td>\n",
       "      <td>0</td>\n",
       "      <td>1982-07-05 00:00:00</td>\n",
       "      <td>16</td>\n",
       "      <td>336</td>\n",
       "      <td>15</td>\n",
       "      <td>2</td>\n",
       "      <td>0</td>\n",
       "      <td>25242</td>\n",
       "    </tr>\n",
       "    <tr>\n",
       "      <th>30644</th>\n",
       "      <td>2</td>\n",
       "      <td>5</td>\n",
       "      <td>14</td>\n",
       "      <td>1</td>\n",
       "      <td>2011</td>\n",
       "      <td>0</td>\n",
       "      <td>7</td>\n",
       "      <td>1</td>\n",
       "      <td>9130</td>\n",
       "      <td>2010</td>\n",
       "      <td>...</td>\n",
       "      <td>0</td>\n",
       "      <td>4</td>\n",
       "      <td>0</td>\n",
       "      <td>1988-04-10 00:00:00</td>\n",
       "      <td>16</td>\n",
       "      <td>215</td>\n",
       "      <td>15</td>\n",
       "      <td>7</td>\n",
       "      <td>0</td>\n",
       "      <td>11612</td>\n",
       "    </tr>\n",
       "    <tr>\n",
       "      <th>47843</th>\n",
       "      <td>2</td>\n",
       "      <td>64</td>\n",
       "      <td>39</td>\n",
       "      <td>1</td>\n",
       "      <td>2013</td>\n",
       "      <td>0</td>\n",
       "      <td>27</td>\n",
       "      <td>0</td>\n",
       "      <td>21227</td>\n",
       "      <td>2015</td>\n",
       "      <td>...</td>\n",
       "      <td>15</td>\n",
       "      <td>5</td>\n",
       "      <td>1</td>\n",
       "      <td>1992-03-05 00:00:00</td>\n",
       "      <td>16</td>\n",
       "      <td>215</td>\n",
       "      <td>15</td>\n",
       "      <td>7</td>\n",
       "      <td>0</td>\n",
       "      <td>28807</td>\n",
       "    </tr>\n",
       "    <tr>\n",
       "      <th>28720</th>\n",
       "      <td>2</td>\n",
       "      <td>4</td>\n",
       "      <td>24</td>\n",
       "      <td>1</td>\n",
       "      <td>2011</td>\n",
       "      <td>0</td>\n",
       "      <td>6</td>\n",
       "      <td>1</td>\n",
       "      <td>8950</td>\n",
       "      <td>2016</td>\n",
       "      <td>...</td>\n",
       "      <td>3</td>\n",
       "      <td>5</td>\n",
       "      <td>1</td>\n",
       "      <td>1991-08-19 00:00:00</td>\n",
       "      <td>16</td>\n",
       "      <td>215</td>\n",
       "      <td>15</td>\n",
       "      <td>7</td>\n",
       "      <td>1</td>\n",
       "      <td>9688</td>\n",
       "    </tr>\n",
       "    <tr>\n",
       "      <th>35541</th>\n",
       "      <td>2</td>\n",
       "      <td>101</td>\n",
       "      <td>60</td>\n",
       "      <td>1</td>\n",
       "      <td>2012</td>\n",
       "      <td>0</td>\n",
       "      <td>27</td>\n",
       "      <td>0</td>\n",
       "      <td>16149</td>\n",
       "      <td>2013</td>\n",
       "      <td>...</td>\n",
       "      <td>0</td>\n",
       "      <td>3</td>\n",
       "      <td>1</td>\n",
       "      <td>1990-08-13 00:00:00</td>\n",
       "      <td>16</td>\n",
       "      <td>215</td>\n",
       "      <td>15</td>\n",
       "      <td>7</td>\n",
       "      <td>0</td>\n",
       "      <td>16507</td>\n",
       "    </tr>\n",
       "  </tbody>\n",
       "</table>\n",
       "<p>32312 rows × 23 columns</p>\n",
       "</div>"
      ],
      "text/plain": [
       "       campus  codigo_inep  curso_nome  turno  ano_ingresso  periodo_ingresso  \\\n",
       "54803       2            3          16      1          2014                 0   \n",
       "20489       2           91          24      1          2010                 0   \n",
       "58249       2            0          18      1          2014                 1   \n",
       "35848       0            9          90      1          2012                 0   \n",
       "34272       2           22          67      1          2011                 1   \n",
       "...       ...          ...         ...    ...           ...               ...   \n",
       "44277       2            3          16      2          2013                 1   \n",
       "30644       2            5          14      1          2011                 0   \n",
       "47843       2           64          39      1          2013                 0   \n",
       "28720       2            4          24      1          2011                 0   \n",
       "35541       2          101          60      1          2012                 0   \n",
       "\n",
       "       forma_ingresso  status  id_discente  ano_referencia  ...  cota  etnia  \\\n",
       "54803               6       0        22798            2014  ...     0      4   \n",
       "20489              27       1         2090            2015  ...     0      1   \n",
       "58249               6       0        27335            2015  ...     0      4   \n",
       "35848              21       1        11113            2015  ...     0      5   \n",
       "34272              27       1         6716            2016  ...     0      5   \n",
       "...               ...     ...          ...             ...  ...   ...    ...   \n",
       "44277              27       0        18668            2016  ...     0      5   \n",
       "30644               7       1         9130            2010  ...     0      4   \n",
       "47843              27       0        21227            2015  ...    15      5   \n",
       "28720               6       1         8950            2016  ...     3      5   \n",
       "35541              27       0        16149            2013  ...     0      3   \n",
       "\n",
       "       sexo      data_nascimento  uf_naturalidade  mun_residencia  \\\n",
       "54803     1  1995-05-12 00:00:00               16             215   \n",
       "20489     1  1993-01-30 00:00:00               18             215   \n",
       "58249     0  1995-06-27 00:00:00               16             215   \n",
       "35848     1  1993-02-26 00:00:00               16             320   \n",
       "34272     0  1991-12-02 00:00:00               16              57   \n",
       "...     ...                  ...              ...             ...   \n",
       "44277     0  1982-07-05 00:00:00               16             336   \n",
       "30644     0  1988-04-10 00:00:00               16             215   \n",
       "47843     1  1992-03-05 00:00:00               16             215   \n",
       "28720     1  1991-08-19 00:00:00               16             215   \n",
       "35541     1  1990-08-13 00:00:00               16             215   \n",
       "\n",
       "      uf_residencia  estado_civil  ingresso_sisu  Range  \n",
       "54803            15             7              1  35765  \n",
       "20489            15             7              0   1461  \n",
       "58249            15             7              1  39211  \n",
       "35848            15             7              0  16814  \n",
       "34272            15             7              0  15239  \n",
       "...             ...           ...            ...    ...  \n",
       "44277            15             2              0  25242  \n",
       "30644            15             7              0  11612  \n",
       "47843            15             7              0  28807  \n",
       "28720            15             7              1   9688  \n",
       "35541            15             7              0  16507  \n",
       "\n",
       "[32312 rows x 23 columns]"
      ]
     },
     "execution_count": 83,
     "metadata": {},
     "output_type": "execute_result"
    }
   ],
   "source": [
    "x_treino"
   ]
  },
  {
   "cell_type": "markdown",
   "id": "9cbbb01b",
   "metadata": {},
   "source": [
    "### Balanceamento de Classe"
   ]
  },
  {
   "cell_type": "markdown",
   "id": "f995a586",
   "metadata": {},
   "source": [
    "# continua"
   ]
  }
 ],
 "metadata": {
  "kernelspec": {
   "display_name": "Python 3 (ipykernel)",
   "language": "python",
   "name": "python3"
  },
  "language_info": {
   "codemirror_mode": {
    "name": "ipython",
    "version": 3
   },
   "file_extension": ".py",
   "mimetype": "text/x-python",
   "name": "python",
   "nbconvert_exporter": "python",
   "pygments_lexer": "ipython3",
   "version": "3.9.13"
  }
 },
 "nbformat": 4,
 "nbformat_minor": 5
}
